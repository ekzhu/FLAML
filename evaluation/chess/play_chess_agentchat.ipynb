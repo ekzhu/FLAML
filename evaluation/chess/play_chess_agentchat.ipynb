{
 "cells": [
  {
   "cell_type": "markdown",
   "metadata": {},
   "source": [
    "modified based on https://github.com/ekzhu/FLAML/blob/evaluation/evaluation/chess/play_chess.ipynb"
   ]
  },
  {
   "cell_type": "code",
   "execution_count": null,
   "metadata": {},
   "outputs": [],
   "source": [
    "%%capture --no-stderr\n",
    "%pip install chess -U\n",
    "%pip install termcolor"
   ]
  },
  {
   "cell_type": "code",
   "execution_count": null,
   "metadata": {},
   "outputs": [],
   "source": [
    "import chess\n",
    "import chess.svg"
   ]
  },
  {
   "cell_type": "markdown",
   "metadata": {},
   "source": [
    "## Set your API Endpoint\n",
    "\n",
    "The [`config_list_from_json`](https://microsoft.github.io/FLAML/docs/reference/autogen/oai/openai_utils#config_list_from_json) function loads a list of configurations from an environment variable or a json file."
   ]
  },
  {
   "cell_type": "code",
   "execution_count": null,
   "metadata": {},
   "outputs": [],
   "source": [
    "from flaml import autogen\n",
    "\n",
    "config_list = autogen.config_list_from_json(\n",
    "    \"OAI_CONFIG_LIST\",\n",
    "    # filter_dict={\n",
    "    #     \"model\": [\"gpt-4\", \"gpt4\", \"gpt-4-32k\", \"gpt-4-32k-0314\"],\n",
    "    # },\n",
    ")"
   ]
  },
  {
   "cell_type": "markdown",
   "metadata": {},
   "source": [
    "## Define Agents"
   ]
  },
  {
   "cell_type": "code",
   "execution_count": null,
   "metadata": {},
   "outputs": [],
   "source": [
    "from typing import Dict, List, Optional, Union\n",
    "from termcolor import colored\n",
    "\n",
    "sys_msg = \"\"\"You are an AI-powered chess board agent.\n",
    "You translate user's natural language input into legal UCI moves.\n",
    "You should only reply with a UCI move string extracted from user's input.\"\"\"\n",
    "\n",
    "user_msg_1 = \"\"\"Alright, let's get this game started. I'll move pawn from e2 to e4. That's a classic opening, isn't it? Your turn.\"\"\"\n",
    "\n",
    "asst_msg_1 = \"e2e4\"\n",
    "\n",
    "user_msg_2 = \"\"\"I am going to move my pawn from e7 to e5.\"\"\"\n",
    "\n",
    "asst_msg_2 = \"e7e5\"\n",
    "\n",
    "examples = [\n",
    "    {\"role\": \"user\", \"content\": user_msg_1},\n",
    "    {\"role\": \"assistant\", \"content\": asst_msg_1},\n",
    "    {\"role\": \"user\", \"content\": user_msg_2},\n",
    "    {\"role\": \"assistant\", \"content\": asst_msg_2},\n",
    "]\n",
    "\n",
    "class BoardAgent(autogen.AssistantAgent):\n",
    "\n",
    "    def __init__(self, board: chess.Board):\n",
    "        super().__init__(\n",
    "            name=\"BoardAgent\",\n",
    "            system_message=sys_msg,\n",
    "            llm_config={\"temperature\": 0.0, \"config_list\": config_list},\n",
    "            max_consecutive_auto_reply=10,\n",
    "        )\n",
    "        self._board = board\n",
    "    \n",
    "    def generate_reply(\n",
    "        self,\n",
    "        messages: Optional[List[Dict]] = None,\n",
    "        default_reply: Optional[Union[str, Dict]] = \"\",\n",
    "        sender: Optional[autogen.Agent] = None,\n",
    "    ) -> Union[str, Dict, None]:\n",
    "        # Filter for messages that do not contain error.\n",
    "        if messages is None:\n",
    "            messages = self._oai_messages[sender.name]\n",
    "        filtered_messages = []\n",
    "        buf = []\n",
    "        for message in messages:\n",
    "            buf.append(message)\n",
    "            if message.get(\"role\") == \"assistant\":\n",
    "                if not message.get(\"content\").startswith(\"Error\"):\n",
    "                    filtered_messages.extend(buf)\n",
    "                buf = []\n",
    "        message = messages[-1]\n",
    "        assert message.get(\"role\") == \"user\"\n",
    "        reply = super().generate_reply(messages=filtered_messages + [message], default_reply=default_reply)\n",
    "        if isinstance(reply, str):\n",
    "            uci_move = reply\n",
    "        else:\n",
    "            uci_move = str(reply[\"content\"])\n",
    "        try:\n",
    "            self._board.push_uci(uci_move)\n",
    "            print(colored(f\"uci_move: {uci_move}\", \"green\"))\n",
    "            m = chess.Move.from_uci(uci_move)\n",
    "            display(chess.svg.board(self._board, arrows=[(m.from_square, m.to_square)], fill={m.from_square: \"gray\"}, size=200))\n",
    "            return uci_move\n",
    "        except ValueError as e:\n",
    "            error = f\"Error: {e}\"\n",
    "            print(colored(error, \"red\"))\n",
    "            return error"
   ]
  },
  {
   "cell_type": "code",
   "execution_count": null,
   "metadata": {},
   "outputs": [],
   "source": [
    "sys_msg_tmpl = \"\"\"Your name is {name} and you are a chess player. \n",
    "You are playing against {opponent_name}. \n",
    "You are playing as {color}. \n",
    "You communicate your move using universal chess interface language.\n",
    "You also chit-chat with your opponent when you communicate a move to light up the mood.\n",
    "You should make sure both you and the opponent are making legal moves.\"\"\"\n",
    "\n",
    "\n",
    "class ChessPlayerAgent(autogen.AssistantAgent):\n",
    "\n",
    "    def __init__(\n",
    "        self,\n",
    "        color: str,\n",
    "        board_agent: BoardAgent,\n",
    "        max_turns: int,\n",
    "        **kwargs,\n",
    "    ):\n",
    "        if color not in [\"white\", \"black\"]:\n",
    "            raise ValueError(f\"color must be either white or black, but got {color}\")\n",
    "        if color == \"white\":\n",
    "            opponent_color = \"black\"\n",
    "        else:\n",
    "            opponent_color = \"white\"\n",
    "        name = f\"Player {color}\"\n",
    "        opponent_name = f\"Player {opponent_color}\"\n",
    "        sys_msg = sys_msg_tmpl.format(\n",
    "            name=name,\n",
    "            opponent_name=opponent_name,\n",
    "            color=color,\n",
    "        )\n",
    "        super().__init__(\n",
    "            name=name,\n",
    "            system_message=sys_msg,\n",
    "            max_consecutive_auto_reply=max_turns,\n",
    "            **kwargs,\n",
    "        )\n",
    "        self._board_agent = board_agent\n",
    "\n",
    "    def generate_reply(\n",
    "        self,\n",
    "        messages: Optional[List[Dict]] = None,\n",
    "        default_reply: Optional[Union[str, Dict]] = \"\",\n",
    "        sender: Optional[autogen.Agent] = None,\n",
    "    ) -> Union[str, Dict, None]:\n",
    "        if messages is None:\n",
    "            messages = self._oai_messages[sender.name]\n",
    "        # add a system message about the current state of the board.\n",
    "        board_state_msg = [{\"role\": \"system\", \"content\": f\"Current board:\\n{self._board_agent._board}\"}]\n",
    "        if sender == self._board_agent:\n",
    "            last_message = messages[-1]\n",
    "            if last_message[\"content\"].startswith(\"Error\"):\n",
    "                last_message[\"role\"] = \"system\"\n",
    "                return super().generate_reply(messages + board_state_msg, default_reply)\n",
    "            else:\n",
    "                return\n",
    "        # TODO: this accesses a private variable of the board agent\n",
    "        # need to implement a public method for resetting the counter\n",
    "        self._board_agent._consecutive_auto_reply_counter[self.name] = 0\n",
    "        self.send(super().generate_reply(messages + board_state_msg, default_reply), self._board_agent)\n",
    "        # last message sent by the board agent\n",
    "        last_message = self._oai_messages[self._board_agent.name][-1]\n",
    "        if last_message[\"role\"] == \"assistant\":\n",
    "            # didn't make a legal move after a limit of 10 turns\n",
    "            print(f\"{self.name}: I yield.\")\n",
    "            return\n",
    "        return self._oai_messages[self._board_agent.name][-2]\n"
   ]
  },
  {
   "cell_type": "markdown",
   "metadata": {},
   "source": [
    "## Construct Agents"
   ]
  },
  {
   "cell_type": "code",
   "execution_count": null,
   "metadata": {},
   "outputs": [],
   "source": [
    "board = chess.Board()\n",
    "board_agent = BoardAgent(board=board)\n",
    "player_black = ChessPlayerAgent(\n",
    "    color=\"black\",\n",
    "    board_agent=board_agent,\n",
    "    max_turns=30,\n",
    "    llm_config={\"temperature\": 0.5, \"seed\": 1, \"config_list\": config_list},\n",
    ")\n",
    "player_white = ChessPlayerAgent(\n",
    "    color=\"white\",\n",
    "    board_agent=board_agent,\n",
    "    max_turns=30,\n",
    "    llm_config={\"temperature\": 0.5, \"seed\": 2, \"config_list\": config_list},\n",
    ")"
   ]
  },
  {
   "cell_type": "markdown",
   "metadata": {},
   "source": [
    "## Start Game"
   ]
  },
  {
   "cell_type": "code",
   "execution_count": null,
   "metadata": {},
   "outputs": [],
   "source": [
    "player_black.send(\"Your turn.\", player_white)"
   ]
  }
 ],
 "metadata": {
  "kernelspec": {
   "display_name": "flaml",
   "language": "python",
   "name": "python3"
  },
  "language_info": {
   "codemirror_mode": {
    "name": "ipython",
    "version": 3
   },
   "file_extension": ".py",
   "mimetype": "text/x-python",
   "name": "python",
   "nbconvert_exporter": "python",
   "pygments_lexer": "ipython3",
   "version": "3.9.17"
  },
  "orig_nbformat": 4
 },
 "nbformat": 4,
 "nbformat_minor": 2
}
