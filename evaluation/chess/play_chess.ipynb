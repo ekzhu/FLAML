{
 "cells": [
  {
   "cell_type": "code",
   "execution_count": 3,
   "metadata": {},
   "outputs": [
    {
     "name": "stdout",
     "output_type": "stream",
     "text": [
      "Requirement already satisfied: chess in /Users/ekzhu/miniconda3/envs/flaml/lib/python3.11/site-packages (1.10.0)\n",
      "Note: you may need to restart the kernel to use updated packages.\n"
     ]
    }
   ],
   "source": [
    "%pip install chess -U"
   ]
  },
  {
   "cell_type": "code",
   "execution_count": 4,
   "metadata": {},
   "outputs": [],
   "source": [
    "from flaml.autogen.agent import AssistantAgent\n",
    "\n",
    "sys_msg_tmpl = \"\"\"Your name is {name} and you are a chess player. You are playing against {opponent_name}. \n",
    "You are playing as {color}. \n",
    "You communicate using the Universal Chess Interface.\n",
    "You can also talk to your opponent for casual chat.\n",
    "When you want to leave the game, say LEAVE.\"\"\"\n",
    "\n",
    "player_white = AssistantAgent(\n",
    "    name=\"player white\",\n",
    "    request_timeout=600,\n",
    "    seed=42,\n",
    "    model=\"gpt-4\",\n",
    "    temperature=0.5,\n",
    "    system_message=sys_msg_tmpl.format(name=\"player white\", opponent_name=\"player black\", color=\"white\"),\n",
    ")\n",
    "player_black = AssistantAgent(\n",
    "    name=\"player black\",\n",
    "    request_timeout=600,\n",
    "    seed=314,\n",
    "    model=\"gpt-4\",\n",
    "    temperature=0.5,\n",
    "    system_message=sys_msg_tmpl.format(name=\"player black\", opponent_name=\"player white\", color=\"black\"),\n",
    ")"
   ]
  },
  {
   "cell_type": "code",
   "execution_count": null,
   "metadata": {},
   "outputs": [],
   "source": [
    "player_black.send(\"e2e4\", player_white)"
   ]
  },
  {
   "cell_type": "code",
   "execution_count": 8,
   "metadata": {},
   "outputs": [
    {
     "ename": "AttributeError",
     "evalue": "'AssistantAgent' object has no attribute 'register_function'",
     "output_type": "error",
     "traceback": [
      "\u001b[0;31m---------------------------------------------------------------------------\u001b[0m",
      "\u001b[0;31mAttributeError\u001b[0m                            Traceback (most recent call last)",
      "Cell \u001b[0;32mIn[8], line 36\u001b[0m\n\u001b[1;32m     26\u001b[0m board \u001b[39m=\u001b[39m chess\u001b[39m.\u001b[39mBoard()\n\u001b[1;32m     27\u001b[0m player_white \u001b[39m=\u001b[39m AssistantAgent(\n\u001b[1;32m     28\u001b[0m     name\u001b[39m=\u001b[39m\u001b[39m\"\u001b[39m\u001b[39mplayer white\u001b[39m\u001b[39m\"\u001b[39m,\n\u001b[1;32m     29\u001b[0m     request_timeout\u001b[39m=\u001b[39m\u001b[39m600\u001b[39m,\n\u001b[0;32m   (...)\u001b[0m\n\u001b[1;32m     34\u001b[0m     oai_config\u001b[39m=\u001b[39mopenai_config,\n\u001b[1;32m     35\u001b[0m )\n\u001b[0;32m---> 36\u001b[0m player_white\u001b[39m.\u001b[39;49mregister_function({\u001b[39m\"\u001b[39m\u001b[39mmake_move\u001b[39m\u001b[39m\"\u001b[39m: board\u001b[39m.\u001b[39mpush_uci})\n\u001b[1;32m     37\u001b[0m player_black \u001b[39m=\u001b[39m AssistantAgent(\n\u001b[1;32m     38\u001b[0m     name\u001b[39m=\u001b[39m\u001b[39m\"\u001b[39m\u001b[39mplayer black\u001b[39m\u001b[39m\"\u001b[39m,\n\u001b[1;32m     39\u001b[0m     request_timeout\u001b[39m=\u001b[39m\u001b[39m600\u001b[39m,\n\u001b[0;32m   (...)\u001b[0m\n\u001b[1;32m     44\u001b[0m     oai_config\u001b[39m=\u001b[39mopenai_config,\n\u001b[1;32m     45\u001b[0m )\n\u001b[1;32m     46\u001b[0m player_black\u001b[39m.\u001b[39mregister_function({\u001b[39m\"\u001b[39m\u001b[39mmake_move\u001b[39m\u001b[39m\"\u001b[39m: board\u001b[39m.\u001b[39mpush_uci})\n",
      "\u001b[0;31mAttributeError\u001b[0m: 'AssistantAgent' object has no attribute 'register_function'"
     ]
    }
   ],
   "source": [
    "import chess\n",
    "\n",
    "openai_config = {\n",
    "    \"functions\": [\n",
    "        {\n",
    "            \"name\": \"make_move\",\n",
    "            \"description\": \"Make a move in a chess game using UCI protocal.\",\n",
    "            \"parameters\": {\n",
    "                \"type\": \"object\",\n",
    "                \"properties\": {\n",
    "                    \"move\": {\n",
    "                        \"type\": \"string\",\n",
    "                        \"description\": \"A move in UCI protocal.\",\n",
    "                    }\n",
    "                },\n",
    "                \"required\": [\"move\"],\n",
    "            },\n",
    "        }\n",
    "    ],\n",
    "}\n",
    "sys_msg_tmpl = \"\"\"Your name is {name} and you are a chess player. \n",
    "You are playing against {opponent_name}. \n",
    "You are playing as {color}. \n",
    "You make move on the board using the make_move function.\n",
    "You can also talk to your opponent for casual chit-chat.\"\"\"\n",
    "board = chess.Board()\n",
    "player_white = AssistantAgent(\n",
    "    name=\"player white\",\n",
    "    request_timeout=600,\n",
    "    seed=42,\n",
    "    model=\"gpt-4\",\n",
    "    temperature=0.5,\n",
    "    system_message=sys_msg_tmpl.format(name=\"player white\", opponent_name=\"player black\", color=\"white\"),\n",
    "    oai_config=openai_config,\n",
    ")\n",
    "player_white.register_function({\"make_move\": board.push_uci})\n",
    "player_black = AssistantAgent(\n",
    "    name=\"player black\",\n",
    "    request_timeout=600,\n",
    "    seed=314,\n",
    "    model=\"gpt-4\",\n",
    "    temperature=0.5,\n",
    "    system_message=sys_msg_tmpl.format(name=\"player black\", opponent_name=\"player white\", color=\"black\"),\n",
    "    oai_config=openai_config,\n",
    ")\n",
    "player_black.register_function({\"make_move\": board.push_uci})"
   ]
  },
  {
   "cell_type": "code",
   "execution_count": 7,
   "metadata": {},
   "outputs": [
    {
     "name": "stdout",
     "output_type": "stream",
     "text": [
      "player white (to player black):\n",
      "\n",
      "You go first\n",
      "\n",
      "--------------------------------------------------------------------------------\n"
     ]
    },
    {
     "ename": "TypeError",
     "evalue": "Object of type method is not JSON serializable",
     "output_type": "error",
     "traceback": [
      "\u001b[0;31m---------------------------------------------------------------------------\u001b[0m",
      "\u001b[0;31mTypeError\u001b[0m                                 Traceback (most recent call last)",
      "Cell \u001b[0;32mIn[7], line 1\u001b[0m\n\u001b[0;32m----> 1\u001b[0m player_white\u001b[39m.\u001b[39;49msend(\u001b[39m\"\u001b[39;49m\u001b[39mYou go first\u001b[39;49m\u001b[39m\"\u001b[39;49m, player_black)\n",
      "File \u001b[0;32m~/FLAML/flaml/autogen/agent/agent.py:70\u001b[0m, in \u001b[0;36mAgent.send\u001b[0;34m(self, message, recipient)\u001b[0m\n\u001b[1;32m     68\u001b[0m \u001b[39m# When the agent composes and sends the message, the role of the message is \"assistant\". (If 'role' exists and is 'function', it will remain unchanged.)\u001b[39;00m\n\u001b[1;32m     69\u001b[0m \u001b[39mself\u001b[39m\u001b[39m.\u001b[39m_append_oai_message(message, \u001b[39m\"\u001b[39m\u001b[39massistant\u001b[39m\u001b[39m\"\u001b[39m, recipient\u001b[39m.\u001b[39mname)\n\u001b[0;32m---> 70\u001b[0m recipient\u001b[39m.\u001b[39;49mreceive(message, \u001b[39mself\u001b[39;49m)\n",
      "File \u001b[0;32m~/FLAML/flaml/autogen/agent/assistant_agent.py:44\u001b[0m, in \u001b[0;36mAssistantAgent.receive\u001b[0;34m(self, message, sender)\u001b[0m\n\u001b[1;32m     41\u001b[0m     \u001b[39mself\u001b[39m\u001b[39m.\u001b[39m_oai_conversations[sender\u001b[39m.\u001b[39mname] \u001b[39m=\u001b[39m [{\u001b[39m\"\u001b[39m\u001b[39mcontent\u001b[39m\u001b[39m\"\u001b[39m: \u001b[39mself\u001b[39m\u001b[39m.\u001b[39m_system_message, \u001b[39m\"\u001b[39m\u001b[39mrole\u001b[39m\u001b[39m\"\u001b[39m: \u001b[39m\"\u001b[39m\u001b[39msystem\u001b[39m\u001b[39m\"\u001b[39m}]\n\u001b[1;32m     43\u001b[0m \u001b[39msuper\u001b[39m()\u001b[39m.\u001b[39mreceive(message, sender)\n\u001b[0;32m---> 44\u001b[0m responses \u001b[39m=\u001b[39m oai\u001b[39m.\u001b[39;49mChatCompletion\u001b[39m.\u001b[39;49mcreate(messages\u001b[39m=\u001b[39;49m\u001b[39mself\u001b[39;49m\u001b[39m.\u001b[39;49m_oai_conversations[sender\u001b[39m.\u001b[39;49mname], \u001b[39m*\u001b[39;49m\u001b[39m*\u001b[39;49m\u001b[39mself\u001b[39;49m\u001b[39m.\u001b[39;49m_config)\n\u001b[1;32m     45\u001b[0m \u001b[39mself\u001b[39m\u001b[39m.\u001b[39msend(oai\u001b[39m.\u001b[39mChatCompletion\u001b[39m.\u001b[39mextract_text_or_function_call(responses)[\u001b[39m0\u001b[39m], sender)\n",
      "File \u001b[0;32m~/FLAML/flaml/autogen/oai/completion.py:786\u001b[0m, in \u001b[0;36mCompletion.create\u001b[0;34m(cls, context, use_cache, config_list, filter_func, raise_error, **config)\u001b[0m\n\u001b[1;32m    784\u001b[0m \u001b[39mwith\u001b[39;00m diskcache\u001b[39m.\u001b[39mCache(\u001b[39mcls\u001b[39m\u001b[39m.\u001b[39mcache_path) \u001b[39mas\u001b[39;00m \u001b[39mcls\u001b[39m\u001b[39m.\u001b[39m_cache:\n\u001b[1;32m    785\u001b[0m     \u001b[39mcls\u001b[39m\u001b[39m.\u001b[39mset_cache(seed)\n\u001b[0;32m--> 786\u001b[0m     \u001b[39mreturn\u001b[39;00m \u001b[39mcls\u001b[39;49m\u001b[39m.\u001b[39;49m_get_response(params, raise_error\u001b[39m=\u001b[39;49mraise_error)\n",
      "File \u001b[0;32m~/FLAML/flaml/autogen/oai/completion.py:186\u001b[0m, in \u001b[0;36mCompletion._get_response\u001b[0;34m(cls, config, raise_error, use_cache)\u001b[0m\n\u001b[1;32m    184\u001b[0m config \u001b[39m=\u001b[39m config\u001b[39m.\u001b[39mcopy()\n\u001b[1;32m    185\u001b[0m openai\u001b[39m.\u001b[39mapi_key_path \u001b[39m=\u001b[39m config\u001b[39m.\u001b[39mpop(\u001b[39m\"\u001b[39m\u001b[39mapi_key_path\u001b[39m\u001b[39m\"\u001b[39m, openai\u001b[39m.\u001b[39mapi_key_path)\n\u001b[0;32m--> 186\u001b[0m key \u001b[39m=\u001b[39m get_key(config)\n\u001b[1;32m    187\u001b[0m \u001b[39mif\u001b[39;00m use_cache:\n\u001b[1;32m    188\u001b[0m     response \u001b[39m=\u001b[39m \u001b[39mcls\u001b[39m\u001b[39m.\u001b[39m_cache\u001b[39m.\u001b[39mget(key, \u001b[39mNone\u001b[39;00m)\n",
      "File \u001b[0;32m~/FLAML/flaml/autogen/oai/openai_utils.py:28\u001b[0m, in \u001b[0;36mget_key\u001b[0;34m(config)\u001b[0m\n\u001b[1;32m     22\u001b[0m         config\u001b[39m.\u001b[39mpop(key)\n\u001b[1;32m     23\u001b[0m \u001b[39m# if isinstance(config, dict):\u001b[39;00m\n\u001b[1;32m     24\u001b[0m \u001b[39m#     return tuple(get_key(x) for x in sorted(config.items()))\u001b[39;00m\n\u001b[1;32m     25\u001b[0m \u001b[39m# if isinstance(config, list):\u001b[39;00m\n\u001b[1;32m     26\u001b[0m \u001b[39m#     return tuple(get_key(x) for x in config)\u001b[39;00m\n\u001b[1;32m     27\u001b[0m \u001b[39m# return config\u001b[39;00m\n\u001b[0;32m---> 28\u001b[0m \u001b[39mreturn\u001b[39;00m json\u001b[39m.\u001b[39;49mdumps(config, sort_keys\u001b[39m=\u001b[39;49m\u001b[39mTrue\u001b[39;49;00m)\n",
      "File \u001b[0;32m~/miniconda3/envs/flaml/lib/python3.11/json/__init__.py:238\u001b[0m, in \u001b[0;36mdumps\u001b[0;34m(obj, skipkeys, ensure_ascii, check_circular, allow_nan, cls, indent, separators, default, sort_keys, **kw)\u001b[0m\n\u001b[1;32m    232\u001b[0m \u001b[39mif\u001b[39;00m \u001b[39mcls\u001b[39m \u001b[39mis\u001b[39;00m \u001b[39mNone\u001b[39;00m:\n\u001b[1;32m    233\u001b[0m     \u001b[39mcls\u001b[39m \u001b[39m=\u001b[39m JSONEncoder\n\u001b[1;32m    234\u001b[0m \u001b[39mreturn\u001b[39;00m \u001b[39mcls\u001b[39;49m(\n\u001b[1;32m    235\u001b[0m     skipkeys\u001b[39m=\u001b[39;49mskipkeys, ensure_ascii\u001b[39m=\u001b[39;49mensure_ascii,\n\u001b[1;32m    236\u001b[0m     check_circular\u001b[39m=\u001b[39;49mcheck_circular, allow_nan\u001b[39m=\u001b[39;49mallow_nan, indent\u001b[39m=\u001b[39;49mindent,\n\u001b[1;32m    237\u001b[0m     separators\u001b[39m=\u001b[39;49mseparators, default\u001b[39m=\u001b[39;49mdefault, sort_keys\u001b[39m=\u001b[39;49msort_keys,\n\u001b[0;32m--> 238\u001b[0m     \u001b[39m*\u001b[39;49m\u001b[39m*\u001b[39;49mkw)\u001b[39m.\u001b[39;49mencode(obj)\n",
      "File \u001b[0;32m~/miniconda3/envs/flaml/lib/python3.11/json/encoder.py:200\u001b[0m, in \u001b[0;36mJSONEncoder.encode\u001b[0;34m(self, o)\u001b[0m\n\u001b[1;32m    196\u001b[0m         \u001b[39mreturn\u001b[39;00m encode_basestring(o)\n\u001b[1;32m    197\u001b[0m \u001b[39m# This doesn't pass the iterator directly to ''.join() because the\u001b[39;00m\n\u001b[1;32m    198\u001b[0m \u001b[39m# exceptions aren't as detailed.  The list call should be roughly\u001b[39;00m\n\u001b[1;32m    199\u001b[0m \u001b[39m# equivalent to the PySequence_Fast that ''.join() would do.\u001b[39;00m\n\u001b[0;32m--> 200\u001b[0m chunks \u001b[39m=\u001b[39m \u001b[39mself\u001b[39;49m\u001b[39m.\u001b[39;49miterencode(o, _one_shot\u001b[39m=\u001b[39;49m\u001b[39mTrue\u001b[39;49;00m)\n\u001b[1;32m    201\u001b[0m \u001b[39mif\u001b[39;00m \u001b[39mnot\u001b[39;00m \u001b[39misinstance\u001b[39m(chunks, (\u001b[39mlist\u001b[39m, \u001b[39mtuple\u001b[39m)):\n\u001b[1;32m    202\u001b[0m     chunks \u001b[39m=\u001b[39m \u001b[39mlist\u001b[39m(chunks)\n",
      "File \u001b[0;32m~/miniconda3/envs/flaml/lib/python3.11/json/encoder.py:258\u001b[0m, in \u001b[0;36mJSONEncoder.iterencode\u001b[0;34m(self, o, _one_shot)\u001b[0m\n\u001b[1;32m    253\u001b[0m \u001b[39melse\u001b[39;00m:\n\u001b[1;32m    254\u001b[0m     _iterencode \u001b[39m=\u001b[39m _make_iterencode(\n\u001b[1;32m    255\u001b[0m         markers, \u001b[39mself\u001b[39m\u001b[39m.\u001b[39mdefault, _encoder, \u001b[39mself\u001b[39m\u001b[39m.\u001b[39mindent, floatstr,\n\u001b[1;32m    256\u001b[0m         \u001b[39mself\u001b[39m\u001b[39m.\u001b[39mkey_separator, \u001b[39mself\u001b[39m\u001b[39m.\u001b[39mitem_separator, \u001b[39mself\u001b[39m\u001b[39m.\u001b[39msort_keys,\n\u001b[1;32m    257\u001b[0m         \u001b[39mself\u001b[39m\u001b[39m.\u001b[39mskipkeys, _one_shot)\n\u001b[0;32m--> 258\u001b[0m \u001b[39mreturn\u001b[39;00m _iterencode(o, \u001b[39m0\u001b[39;49m)\n",
      "File \u001b[0;32m~/miniconda3/envs/flaml/lib/python3.11/json/encoder.py:180\u001b[0m, in \u001b[0;36mJSONEncoder.default\u001b[0;34m(self, o)\u001b[0m\n\u001b[1;32m    161\u001b[0m \u001b[39mdef\u001b[39;00m \u001b[39mdefault\u001b[39m(\u001b[39mself\u001b[39m, o):\n\u001b[1;32m    162\u001b[0m \u001b[39m    \u001b[39m\u001b[39m\"\"\"Implement this method in a subclass such that it returns\u001b[39;00m\n\u001b[1;32m    163\u001b[0m \u001b[39m    a serializable object for ``o``, or calls the base implementation\u001b[39;00m\n\u001b[1;32m    164\u001b[0m \u001b[39m    (to raise a ``TypeError``).\u001b[39;00m\n\u001b[0;32m   (...)\u001b[0m\n\u001b[1;32m    178\u001b[0m \n\u001b[1;32m    179\u001b[0m \u001b[39m    \"\"\"\u001b[39;00m\n\u001b[0;32m--> 180\u001b[0m     \u001b[39mraise\u001b[39;00m \u001b[39mTypeError\u001b[39;00m(\u001b[39mf\u001b[39m\u001b[39m'\u001b[39m\u001b[39mObject of type \u001b[39m\u001b[39m{\u001b[39;00mo\u001b[39m.\u001b[39m\u001b[39m__class__\u001b[39m\u001b[39m.\u001b[39m\u001b[39m__name__\u001b[39m\u001b[39m}\u001b[39;00m\u001b[39m \u001b[39m\u001b[39m'\u001b[39m\n\u001b[1;32m    181\u001b[0m                     \u001b[39mf\u001b[39m\u001b[39m'\u001b[39m\u001b[39mis not JSON serializable\u001b[39m\u001b[39m'\u001b[39m)\n",
      "\u001b[0;31mTypeError\u001b[0m: Object of type method is not JSON serializable"
     ]
    }
   ],
   "source": [
    "player_white.send(\"You go first\", player_black)"
   ]
  }
 ],
 "metadata": {
  "kernelspec": {
   "display_name": "flaml",
   "language": "python",
   "name": "python3"
  },
  "language_info": {
   "codemirror_mode": {
    "name": "ipython",
    "version": 3
   },
   "file_extension": ".py",
   "mimetype": "text/x-python",
   "name": "python",
   "nbconvert_exporter": "python",
   "pygments_lexer": "ipython3",
   "version": "3.11.4"
  },
  "orig_nbformat": 4
 },
 "nbformat": 4,
 "nbformat_minor": 2
}
