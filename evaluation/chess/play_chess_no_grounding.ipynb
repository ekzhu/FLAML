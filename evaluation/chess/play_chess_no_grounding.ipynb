{
 "cells": [
  {
   "cell_type": "code",
   "execution_count": null,
   "metadata": {},
   "outputs": [],
   "source": [
    "%pip install chess -U"
   ]
  },
  {
   "cell_type": "code",
   "execution_count": 1,
   "metadata": {},
   "outputs": [],
   "source": [
    "import chess"
   ]
  },
  {
   "cell_type": "code",
   "execution_count": 2,
   "metadata": {},
   "outputs": [],
   "source": [
    "from flaml.autogen.agent import AssistantAgent"
   ]
  },
  {
   "cell_type": "code",
   "execution_count": null,
   "metadata": {},
   "outputs": [],
   "source": [
    "sys_msg_tmpl = \"\"\"Your name is {name} and you are a chess player. \n",
    "You are playing against {opponent_name}. \n",
    "You are playing as {color}. \n",
    "You communicate your move using universal chess interface language.\n",
    "You also chit-chat with your opponent when you communicate a move to light up the mood.\n",
    "You should make sure both you and the opponent are making legal moves.\n",
    "For every move you communicate, you also draw the chess board after the move.\n",
    "You draw the chess board using simple ASCII characters, for example:\n",
    "r . b q k b . r\n",
    "p p p p . Q p p\n",
    ". . n . . n . .\n",
    ". . . . p . . .\n",
    ". . B . P . . .\n",
    ". . . . . . . .\n",
    "P P P P . P P P\n",
    "R N B . K . N R\n",
    "\n",
    "Have fun!\n",
    "\"\"\"\n",
    "player_white = AssistantAgent(\n",
    "    name=\"player white\",\n",
    "    system_message=sys_msg_tmpl.format(name=\"player white\", opponent_name=\"player black\", color=\"white\"),\n",
    "    oai_config={\"seed\": 42, \"temperature\": 0.3},\n",
    "    max_consecutive_auto_reply=5,\n",
    ")\n",
    "player_black = AssistantAgent(\n",
    "    name=\"player black\",\n",
    "    system_message=sys_msg_tmpl.format(name=\"player black\", opponent_name=\"player white\", color=\"black\"),\n",
    "    oai_config={\"seed\": 314, \"temperature\": 0.8},\n",
    "    max_consecutive_auto_reply=5,\n",
    ")"
   ]
  },
  {
   "cell_type": "code",
   "execution_count": null,
   "metadata": {},
   "outputs": [],
   "source": [
    "player_white.send(\"You go first\", player_black)"
   ]
  }
 ],
 "metadata": {
  "kernelspec": {
   "display_name": "flaml",
   "language": "python",
   "name": "python3"
  },
  "language_info": {
   "codemirror_mode": {
    "name": "ipython",
    "version": 3
   },
   "file_extension": ".py",
   "mimetype": "text/x-python",
   "name": "python",
   "nbconvert_exporter": "python",
   "pygments_lexer": "ipython3",
   "version": "3.11.4"
  },
  "orig_nbformat": 4
 },
 "nbformat": 4,
 "nbformat_minor": 2
}
