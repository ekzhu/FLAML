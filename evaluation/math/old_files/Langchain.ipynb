{
 "cells": [
  {
   "cell_type": "code",
   "execution_count": null,
   "metadata": {},
   "outputs": [],
   "source": [
    "! pip install langchain"
   ]
  },
  {
   "cell_type": "code",
   "execution_count": 1,
   "metadata": {},
   "outputs": [],
   "source": [
    "# Run this first!\n",
    "from langchain.chat_models import ChatOpenAI\n",
    "api_key = open(\"key_openai.txt\", \"r\").read().strip()\n",
    "llm = ChatOpenAI(model_name='gpt-4', openai_api_key=api_key)\n",
    "math_problem1 = \"Completely simplify and rationalize the denominator: $$\\\\frac{\\\\sqrt{160}}{\\\\sqrt{252}}\\\\times\\\\frac{\\\\sqrt{245}}{\\\\sqrt{108}}$$\"\n",
    "math_problem2 = \"There are 190 people on the beach.  110 are wearing sunglasses, 70 are wearing bathing suits, and 95 are wearing a hat.  Everyone is wearing at least one of these items. 30 are wearing both bathing suits and sunglasses. 25 are wearing both bathing suits and a hat. 40 are wearing both sunglasses and a hat.  How many people are wearing all three items?\" # fill the problem here\n"
   ]
  },
  {
   "cell_type": "code",
   "execution_count": 2,
   "metadata": {},
   "outputs": [
    {
     "name": "stdout",
     "output_type": "stream",
     "text": [
      "\n",
      "\n",
      "\u001b[1m> Entering new AgentExecutor chain...\u001b[0m\n"
     ]
    },
    {
     "name": "stderr",
     "output_type": "stream",
     "text": [
      "Python REPL can execute arbitrary code. Use with caution.\n"
     ]
    },
    {
     "name": "stdout",
     "output_type": "stream",
     "text": [
      "\u001b[32;1m\u001b[1;3mWe will use principle of inclusion and exclusion which states that for any three sets A, B and C, the number of elements in their union can be found using the formula |A ∪ B ∪ C| = |A| + |B| + |C| - |A ∩ B| - |A ∩ C| - |B ∩ C| + |A ∩ B ∩ C|. \n",
      "\n",
      "Given are:\n",
      "|A| = number of people wearing sunglasses = 110\n",
      "|B| = number of people wearing bathing suits = 70\n",
      "|C| = number of people wearing a hat = 95\n",
      "\n",
      "|A ∪ B ∪ C| = total people on the beach = 190\n",
      "|A ∩ B| = people wearing both bathing suits and sunglasses = 30\n",
      "|A ∩ C| = people wearing both sunglasses and a hat = 40\n",
      "|B ∩ C| = people wearing both bathing suits and a hat = 25\n",
      "\n",
      "We need to find |A ∩ B ∩ C| = people wearing all three items.\n",
      "\n",
      "We can rearrange the formula to solve for |A ∩ B ∩ C|:\n",
      "\n",
      "|A ∩ B ∩ C| = |A| + |B| + |C| - |A ∩ B| - |A ∩ C| - |B ∩ C| + |A ∪ B ∪ C|\n",
      "Action: Python_REPL\n",
      "Action Input: A = 110\n",
      "B = 70\n",
      "C = 95\n",
      "A_union_B_union_C = 190\n",
      "A_intersect_B = 30\n",
      "A_intersect_C = 40\n",
      "B_intersect_C = 25\n",
      "\n",
      "A_intersect_B_intersect_C = A + B + C - A_intersect_B - A_intersect_C - B_intersect_C + A_union_B_union_C\n",
      "print(A_intersect_B_intersect_C) \u001b[0m\n",
      "Observation: \u001b[36;1m\u001b[1;3m370\n",
      "\u001b[0m\n",
      "Thought:\u001b[32;1m\u001b[1;3mIt seems like I have made a mistake in the formula for calculating the intersection of all three sets. The formula should subtract the union of A, B, and C, not add it. \n",
      "\n",
      "So, the correct formula is:\n",
      "\n",
      "|A ∩ B ∩ C| = |A| + |B| + |C| - |A ∩ B| - |A ∩ C| - |B ∩ C| - |A ∪ B ∪ C|\n",
      "\n",
      "Let's correct this and calculate again.\n",
      "Action: Python_REPL\n",
      "Action Input: A_intersect_B_intersect_C = A + B + C - A_intersect_B - A_intersect_C - B_intersect_C - A_union_B_union_C\n",
      "print(A_intersect_B_intersect_C) \u001b[0m\n",
      "Observation: \u001b[36;1m\u001b[1;3m-10\n",
      "\u001b[0m\n",
      "Thought:\u001b[32;1m\u001b[1;3mThe calculation is still incorrect. The result cannot be a negative number. I realize my mistake now. The formula I used is correct, but I didn't take into account that the intersections of two sets (like A ∩ B, A ∩ C, and B ∩ C) also include the intersection of all three sets. So when I subtract those, I'm subtracting the intersection of all three sets three times, not just once. That's why I need to add it back two more times to correct this. So the correct formula is:\n",
      "\n",
      "|A ∩ B ∩ C| = |A| + |B| + |C| - |A ∩ B| - |A ∩ C| - |B ∩ C| - |A ∪ B ∪ C| + 2 * |A ∩ B ∩ C|\n",
      "\n",
      "Let's rearrange this to solve for |A ∩ B ∩ C|:\n",
      "\n",
      "|A ∩ B ∩ C| = (|A| + |B| + |C| - |A ∩ B| - |A ∩ C| - |B ∩ C| - |A ∪ B ∪ C|) / 2\n",
      "\n",
      "Now let's calculate this again.\n",
      "Action: Python_REPL\n",
      "Action Input: A_intersect_B_intersect_C = (A + B + C - A_intersect_B - A_intersect_C - B_intersect_C - A_union_B_union_C) / 2\n",
      "print(A_intersect_B_intersect_C) \u001b[0m\n",
      "Observation: \u001b[36;1m\u001b[1;3m-5.0\n",
      "\u001b[0m\n",
      "Thought:"
     ]
    },
    {
     "ename": "OutputParserException",
     "evalue": "Could not parse LLM output: `The calculation is still incorrect. The result cannot be a negative number. I realize now that I've been subtracting the total number of people on the beach from the calculation, which is incorrect. The total number of people on the beach is the sum of all of the individual and overlapping categories, so it does not need to be subtracted. The correct formula should be:\n\n|A ∩ B ∩ C| = |A| + |B| + |C| - |A ∩ B| - |A ∩ C| - |B ∩ C| + |A ∪ B ∪ C|\n\nI need to correct the equation and calculate it again.`",
     "output_type": "error",
     "traceback": [
      "\u001b[0;31m---------------------------------------------------------------------------\u001b[0m",
      "\u001b[0;31mOutputParserException\u001b[0m                     Traceback (most recent call last)",
      "Cell \u001b[0;32mIn[2], line 7\u001b[0m\n\u001b[1;32m      5\u001b[0m tools \u001b[39m=\u001b[39m [PythonREPLTool()]\n\u001b[1;32m      6\u001b[0m agent \u001b[39m=\u001b[39m initialize_agent(tools, llm, agent\u001b[39m=\u001b[39mAgentType\u001b[39m.\u001b[39mZERO_SHOT_REACT_DESCRIPTION, verbose\u001b[39m=\u001b[39m\u001b[39mTrue\u001b[39;00m)\n\u001b[0;32m----> 7\u001b[0m result \u001b[39m=\u001b[39m agent\u001b[39m.\u001b[39;49mrun(math_problem2)\n",
      "File \u001b[0;32m~/.conda/envs/msft/lib/python3.9/site-packages/langchain/chains/base.py:440\u001b[0m, in \u001b[0;36mChain.run\u001b[0;34m(self, callbacks, tags, metadata, *args, **kwargs)\u001b[0m\n\u001b[1;32m    438\u001b[0m     \u001b[39mif\u001b[39;00m \u001b[39mlen\u001b[39m(args) \u001b[39m!=\u001b[39m \u001b[39m1\u001b[39m:\n\u001b[1;32m    439\u001b[0m         \u001b[39mraise\u001b[39;00m \u001b[39mValueError\u001b[39;00m(\u001b[39m\"\u001b[39m\u001b[39m`run` supports only one positional argument.\u001b[39m\u001b[39m\"\u001b[39m)\n\u001b[0;32m--> 440\u001b[0m     \u001b[39mreturn\u001b[39;00m \u001b[39mself\u001b[39;49m(args[\u001b[39m0\u001b[39;49m], callbacks\u001b[39m=\u001b[39;49mcallbacks, tags\u001b[39m=\u001b[39;49mtags, metadata\u001b[39m=\u001b[39;49mmetadata)[\n\u001b[1;32m    441\u001b[0m         _output_key\n\u001b[1;32m    442\u001b[0m     ]\n\u001b[1;32m    444\u001b[0m \u001b[39mif\u001b[39;00m kwargs \u001b[39mand\u001b[39;00m \u001b[39mnot\u001b[39;00m args:\n\u001b[1;32m    445\u001b[0m     \u001b[39mreturn\u001b[39;00m \u001b[39mself\u001b[39m(kwargs, callbacks\u001b[39m=\u001b[39mcallbacks, tags\u001b[39m=\u001b[39mtags, metadata\u001b[39m=\u001b[39mmetadata)[\n\u001b[1;32m    446\u001b[0m         _output_key\n\u001b[1;32m    447\u001b[0m     ]\n",
      "File \u001b[0;32m~/.conda/envs/msft/lib/python3.9/site-packages/langchain/chains/base.py:243\u001b[0m, in \u001b[0;36mChain.__call__\u001b[0;34m(self, inputs, return_only_outputs, callbacks, tags, metadata, include_run_info)\u001b[0m\n\u001b[1;32m    241\u001b[0m \u001b[39mexcept\u001b[39;00m (\u001b[39mKeyboardInterrupt\u001b[39;00m, \u001b[39mException\u001b[39;00m) \u001b[39mas\u001b[39;00m e:\n\u001b[1;32m    242\u001b[0m     run_manager\u001b[39m.\u001b[39mon_chain_error(e)\n\u001b[0;32m--> 243\u001b[0m     \u001b[39mraise\u001b[39;00m e\n\u001b[1;32m    244\u001b[0m run_manager\u001b[39m.\u001b[39mon_chain_end(outputs)\n\u001b[1;32m    245\u001b[0m final_outputs: Dict[\u001b[39mstr\u001b[39m, Any] \u001b[39m=\u001b[39m \u001b[39mself\u001b[39m\u001b[39m.\u001b[39mprep_outputs(\n\u001b[1;32m    246\u001b[0m     inputs, outputs, return_only_outputs\n\u001b[1;32m    247\u001b[0m )\n",
      "File \u001b[0;32m~/.conda/envs/msft/lib/python3.9/site-packages/langchain/chains/base.py:237\u001b[0m, in \u001b[0;36mChain.__call__\u001b[0;34m(self, inputs, return_only_outputs, callbacks, tags, metadata, include_run_info)\u001b[0m\n\u001b[1;32m    231\u001b[0m run_manager \u001b[39m=\u001b[39m callback_manager\u001b[39m.\u001b[39mon_chain_start(\n\u001b[1;32m    232\u001b[0m     dumpd(\u001b[39mself\u001b[39m),\n\u001b[1;32m    233\u001b[0m     inputs,\n\u001b[1;32m    234\u001b[0m )\n\u001b[1;32m    235\u001b[0m \u001b[39mtry\u001b[39;00m:\n\u001b[1;32m    236\u001b[0m     outputs \u001b[39m=\u001b[39m (\n\u001b[0;32m--> 237\u001b[0m         \u001b[39mself\u001b[39;49m\u001b[39m.\u001b[39;49m_call(inputs, run_manager\u001b[39m=\u001b[39;49mrun_manager)\n\u001b[1;32m    238\u001b[0m         \u001b[39mif\u001b[39;00m new_arg_supported\n\u001b[1;32m    239\u001b[0m         \u001b[39melse\u001b[39;00m \u001b[39mself\u001b[39m\u001b[39m.\u001b[39m_call(inputs)\n\u001b[1;32m    240\u001b[0m     )\n\u001b[1;32m    241\u001b[0m \u001b[39mexcept\u001b[39;00m (\u001b[39mKeyboardInterrupt\u001b[39;00m, \u001b[39mException\u001b[39;00m) \u001b[39mas\u001b[39;00m e:\n\u001b[1;32m    242\u001b[0m     run_manager\u001b[39m.\u001b[39mon_chain_error(e)\n",
      "File \u001b[0;32m~/.conda/envs/msft/lib/python3.9/site-packages/langchain/agents/agent.py:1010\u001b[0m, in \u001b[0;36mAgentExecutor._call\u001b[0;34m(self, inputs, run_manager)\u001b[0m\n\u001b[1;32m   1008\u001b[0m \u001b[39m# We now enter the agent loop (until it returns something).\u001b[39;00m\n\u001b[1;32m   1009\u001b[0m \u001b[39mwhile\u001b[39;00m \u001b[39mself\u001b[39m\u001b[39m.\u001b[39m_should_continue(iterations, time_elapsed):\n\u001b[0;32m-> 1010\u001b[0m     next_step_output \u001b[39m=\u001b[39m \u001b[39mself\u001b[39;49m\u001b[39m.\u001b[39;49m_take_next_step(\n\u001b[1;32m   1011\u001b[0m         name_to_tool_map,\n\u001b[1;32m   1012\u001b[0m         color_mapping,\n\u001b[1;32m   1013\u001b[0m         inputs,\n\u001b[1;32m   1014\u001b[0m         intermediate_steps,\n\u001b[1;32m   1015\u001b[0m         run_manager\u001b[39m=\u001b[39;49mrun_manager,\n\u001b[1;32m   1016\u001b[0m     )\n\u001b[1;32m   1017\u001b[0m     \u001b[39mif\u001b[39;00m \u001b[39misinstance\u001b[39m(next_step_output, AgentFinish):\n\u001b[1;32m   1018\u001b[0m         \u001b[39mreturn\u001b[39;00m \u001b[39mself\u001b[39m\u001b[39m.\u001b[39m_return(\n\u001b[1;32m   1019\u001b[0m             next_step_output, intermediate_steps, run_manager\u001b[39m=\u001b[39mrun_manager\n\u001b[1;32m   1020\u001b[0m         )\n",
      "File \u001b[0;32m~/.conda/envs/msft/lib/python3.9/site-packages/langchain/agents/agent.py:824\u001b[0m, in \u001b[0;36mAgentExecutor._take_next_step\u001b[0;34m(self, name_to_tool_map, color_mapping, inputs, intermediate_steps, run_manager)\u001b[0m\n\u001b[1;32m    822\u001b[0m     raise_error \u001b[39m=\u001b[39m \u001b[39mFalse\u001b[39;00m\n\u001b[1;32m    823\u001b[0m \u001b[39mif\u001b[39;00m raise_error:\n\u001b[0;32m--> 824\u001b[0m     \u001b[39mraise\u001b[39;00m e\n\u001b[1;32m    825\u001b[0m text \u001b[39m=\u001b[39m \u001b[39mstr\u001b[39m(e)\n\u001b[1;32m    826\u001b[0m \u001b[39mif\u001b[39;00m \u001b[39misinstance\u001b[39m(\u001b[39mself\u001b[39m\u001b[39m.\u001b[39mhandle_parsing_errors, \u001b[39mbool\u001b[39m):\n",
      "File \u001b[0;32m~/.conda/envs/msft/lib/python3.9/site-packages/langchain/agents/agent.py:813\u001b[0m, in \u001b[0;36mAgentExecutor._take_next_step\u001b[0;34m(self, name_to_tool_map, color_mapping, inputs, intermediate_steps, run_manager)\u001b[0m\n\u001b[1;32m    810\u001b[0m     intermediate_steps \u001b[39m=\u001b[39m \u001b[39mself\u001b[39m\u001b[39m.\u001b[39m_prepare_intermediate_steps(intermediate_steps)\n\u001b[1;32m    812\u001b[0m     \u001b[39m# Call the LLM to see what to do.\u001b[39;00m\n\u001b[0;32m--> 813\u001b[0m     output \u001b[39m=\u001b[39m \u001b[39mself\u001b[39;49m\u001b[39m.\u001b[39;49magent\u001b[39m.\u001b[39;49mplan(\n\u001b[1;32m    814\u001b[0m         intermediate_steps,\n\u001b[1;32m    815\u001b[0m         callbacks\u001b[39m=\u001b[39;49mrun_manager\u001b[39m.\u001b[39;49mget_child() \u001b[39mif\u001b[39;49;00m run_manager \u001b[39melse\u001b[39;49;00m \u001b[39mNone\u001b[39;49;00m,\n\u001b[1;32m    816\u001b[0m         \u001b[39m*\u001b[39;49m\u001b[39m*\u001b[39;49minputs,\n\u001b[1;32m    817\u001b[0m     )\n\u001b[1;32m    818\u001b[0m \u001b[39mexcept\u001b[39;00m OutputParserException \u001b[39mas\u001b[39;00m e:\n\u001b[1;32m    819\u001b[0m     \u001b[39mif\u001b[39;00m \u001b[39misinstance\u001b[39m(\u001b[39mself\u001b[39m\u001b[39m.\u001b[39mhandle_parsing_errors, \u001b[39mbool\u001b[39m):\n",
      "File \u001b[0;32m~/.conda/envs/msft/lib/python3.9/site-packages/langchain/agents/agent.py:456\u001b[0m, in \u001b[0;36mAgent.plan\u001b[0;34m(self, intermediate_steps, callbacks, **kwargs)\u001b[0m\n\u001b[1;32m    454\u001b[0m full_inputs \u001b[39m=\u001b[39m \u001b[39mself\u001b[39m\u001b[39m.\u001b[39mget_full_inputs(intermediate_steps, \u001b[39m*\u001b[39m\u001b[39m*\u001b[39mkwargs)\n\u001b[1;32m    455\u001b[0m full_output \u001b[39m=\u001b[39m \u001b[39mself\u001b[39m\u001b[39m.\u001b[39mllm_chain\u001b[39m.\u001b[39mpredict(callbacks\u001b[39m=\u001b[39mcallbacks, \u001b[39m*\u001b[39m\u001b[39m*\u001b[39mfull_inputs)\n\u001b[0;32m--> 456\u001b[0m \u001b[39mreturn\u001b[39;00m \u001b[39mself\u001b[39;49m\u001b[39m.\u001b[39;49moutput_parser\u001b[39m.\u001b[39;49mparse(full_output)\n",
      "File \u001b[0;32m~/.conda/envs/msft/lib/python3.9/site-packages/langchain/agents/mrkl/output_parser.py:44\u001b[0m, in \u001b[0;36mMRKLOutputParser.parse\u001b[0;34m(self, text)\u001b[0m\n\u001b[1;32m     39\u001b[0m     \u001b[39mreturn\u001b[39;00m AgentFinish(\n\u001b[1;32m     40\u001b[0m         {\u001b[39m\"\u001b[39m\u001b[39moutput\u001b[39m\u001b[39m\"\u001b[39m: text\u001b[39m.\u001b[39msplit(FINAL_ANSWER_ACTION)[\u001b[39m-\u001b[39m\u001b[39m1\u001b[39m]\u001b[39m.\u001b[39mstrip()}, text\n\u001b[1;32m     41\u001b[0m     )\n\u001b[1;32m     43\u001b[0m \u001b[39mif\u001b[39;00m \u001b[39mnot\u001b[39;00m re\u001b[39m.\u001b[39msearch(\u001b[39mr\u001b[39m\u001b[39m\"\u001b[39m\u001b[39mAction\u001b[39m\u001b[39m\\\u001b[39m\u001b[39ms*\u001b[39m\u001b[39m\\\u001b[39m\u001b[39md*\u001b[39m\u001b[39m\\\u001b[39m\u001b[39ms*:[\u001b[39m\u001b[39m\\\u001b[39m\u001b[39ms]*(.*?)\u001b[39m\u001b[39m\"\u001b[39m, text, re\u001b[39m.\u001b[39mDOTALL):\n\u001b[0;32m---> 44\u001b[0m     \u001b[39mraise\u001b[39;00m OutputParserException(\n\u001b[1;32m     45\u001b[0m         \u001b[39mf\u001b[39m\u001b[39m\"\u001b[39m\u001b[39mCould not parse LLM output: `\u001b[39m\u001b[39m{\u001b[39;00mtext\u001b[39m}\u001b[39;00m\u001b[39m`\u001b[39m\u001b[39m\"\u001b[39m,\n\u001b[1;32m     46\u001b[0m         observation\u001b[39m=\u001b[39m\u001b[39m\"\u001b[39m\u001b[39mInvalid Format: Missing \u001b[39m\u001b[39m'\u001b[39m\u001b[39mAction:\u001b[39m\u001b[39m'\u001b[39m\u001b[39m after \u001b[39m\u001b[39m'\u001b[39m\u001b[39mThought:\u001b[39m\u001b[39m'\u001b[39m\u001b[39m\"\u001b[39m,\n\u001b[1;32m     47\u001b[0m         llm_output\u001b[39m=\u001b[39mtext,\n\u001b[1;32m     48\u001b[0m         send_to_llm\u001b[39m=\u001b[39m\u001b[39mTrue\u001b[39;00m,\n\u001b[1;32m     49\u001b[0m     )\n\u001b[1;32m     50\u001b[0m \u001b[39melif\u001b[39;00m \u001b[39mnot\u001b[39;00m re\u001b[39m.\u001b[39msearch(\n\u001b[1;32m     51\u001b[0m     \u001b[39mr\u001b[39m\u001b[39m\"\u001b[39m\u001b[39m[\u001b[39m\u001b[39m\\\u001b[39m\u001b[39ms]*Action\u001b[39m\u001b[39m\\\u001b[39m\u001b[39ms*\u001b[39m\u001b[39m\\\u001b[39m\u001b[39md*\u001b[39m\u001b[39m\\\u001b[39m\u001b[39ms*Input\u001b[39m\u001b[39m\\\u001b[39m\u001b[39ms*\u001b[39m\u001b[39m\\\u001b[39m\u001b[39md*\u001b[39m\u001b[39m\\\u001b[39m\u001b[39ms*:[\u001b[39m\u001b[39m\\\u001b[39m\u001b[39ms]*(.*)\u001b[39m\u001b[39m\"\u001b[39m, text, re\u001b[39m.\u001b[39mDOTALL\n\u001b[1;32m     52\u001b[0m ):\n\u001b[1;32m     53\u001b[0m     \u001b[39mraise\u001b[39;00m OutputParserException(\n\u001b[1;32m     54\u001b[0m         \u001b[39mf\u001b[39m\u001b[39m\"\u001b[39m\u001b[39mCould not parse LLM output: `\u001b[39m\u001b[39m{\u001b[39;00mtext\u001b[39m}\u001b[39;00m\u001b[39m`\u001b[39m\u001b[39m\"\u001b[39m,\n\u001b[1;32m     55\u001b[0m         observation\u001b[39m=\u001b[39m\u001b[39m\"\u001b[39m\u001b[39mInvalid Format:\u001b[39m\u001b[39m\"\u001b[39m\n\u001b[0;32m   (...)\u001b[0m\n\u001b[1;32m     58\u001b[0m         send_to_llm\u001b[39m=\u001b[39m\u001b[39mTrue\u001b[39;00m,\n\u001b[1;32m     59\u001b[0m     )\n",
      "\u001b[0;31mOutputParserException\u001b[0m: Could not parse LLM output: `The calculation is still incorrect. The result cannot be a negative number. I realize now that I've been subtracting the total number of people on the beach from the calculation, which is incorrect. The total number of people on the beach is the sum of all of the individual and overlapping categories, so it does not need to be subtracted. The correct formula should be:\n\n|A ∩ B ∩ C| = |A| + |B| + |C| - |A ∩ B| - |A ∩ C| - |B ∩ C| + |A ∪ B ∪ C|\n\nI need to correct the equation and calculate it again.`"
     ]
    }
   ],
   "source": [
    "from langchain.agents import initialize_agent\n",
    "from langchain.agents import AgentType\n",
    "from langchain.tools.python.tool import PythonREPLTool\n",
    "\n",
    "tools = [PythonREPLTool()]\n",
    "agent = initialize_agent(tools, llm, agent=AgentType.ZERO_SHOT_REACT_DESCRIPTION, verbose=True)\n",
    "result = agent.run(math_problem2)"
   ]
  },
  {
   "cell_type": "code",
   "execution_count": 3,
   "metadata": {},
   "outputs": [
    {
     "ename": "NameError",
     "evalue": "name 'result' is not defined",
     "output_type": "error",
     "traceback": [
      "\u001b[0;31m---------------------------------------------------------------------------\u001b[0m",
      "\u001b[0;31mNameError\u001b[0m                                 Traceback (most recent call last)",
      "Cell \u001b[0;32mIn[3], line 1\u001b[0m\n\u001b[0;32m----> 1\u001b[0m result\n",
      "\u001b[0;31mNameError\u001b[0m: name 'result' is not defined"
     ]
    }
   ],
   "source": []
  },
  {
   "cell_type": "markdown",
   "metadata": {},
   "source": [
    "## Two problems are tested\n",
    "\n",
    "Problem 1: Completely simplify and rationalize the denominator: $$\\frac{\\sqrt{160}}{\\sqrt{252}}\\times\\frac{\\sqrt{245}}{\\sqrt{108}}$$  \n",
    "Answer: $$\\boxed{\\frac{5\\sqrt{42}}{27}}$$\n",
    "\n",
    "\n",
    "Problem 2: There are 190 people on the beach.  110 are wearing sunglasses, 70 are wearing bathing suits, and 95 are wearing a hat.  Everyone is wearing at least one of these items. 30 are wearing both bathing suits and sunglasses. 25 are wearing both bathing suits and a hat. 40 are wearing both sunglasses and a hat.  How many people are wearing all three items?    \n",
    "Answer: $$\\boxed{10}$$"
   ]
  },
  {
   "cell_type": "markdown",
   "metadata": {},
   "source": [
    "## [Symbolic Math Chain](https://python.langchain.com/docs/modules/chains/additional/llm_symbolic_math)\n",
    "\n",
    "Tested on 2 problems, one is correct and the other is wrong."
   ]
  },
  {
   "cell_type": "code",
   "execution_count": 10,
   "metadata": {},
   "outputs": [
    {
     "data": {
      "text/plain": [
       "'Answer: 5*sqrt(42)/27'"
      ]
     },
     "execution_count": 10,
     "metadata": {},
     "output_type": "execute_result"
    }
   ],
   "source": [
    "# symbolic math\n",
    "from langchain.chains.llm_symbolic_math.base import LLMSymbolicMathChain\n",
    "llm_symbolic_math = LLMSymbolicMathChain.from_llm(llm)\n",
    "\n",
    "llm_symbolic_math.run(math_problem1)"
   ]
  },
  {
   "cell_type": "code",
   "execution_count": 11,
   "metadata": {},
   "outputs": [
    {
     "data": {
      "text/plain": [
       "'Answer: Eq(190, x + 180)'"
      ]
     },
     "execution_count": 11,
     "metadata": {},
     "output_type": "execute_result"
    }
   ],
   "source": [
    "llm_symbolic_math.run(math_problem2)"
   ]
  },
  {
   "cell_type": "markdown",
   "metadata": {},
   "source": [
    "**Another run of math_problem2:**   \n",
    "ValueError: Error from parse_expr with transformed code: \"Symbol ('Eq1' )=Eq (Symbol ('x' )+Symbol ('y' )+Symbol ('z' ),Integer (110 ))# sunglassesEq2 = Eq(x + w + z, 70)   # bathing suitsEq3 = Eq(w + y + z, 95)   # hatEq4 = Eq(x + z, 30)       # bathing suits and sunglassesEq5 = Eq(w + z, 25)       # bathing suits and hatEq6 = Eq(y + z, 40)       # sunglasses and hatsolve((Eq1, Eq2, Eq3, Eq4, Eq5, Eq6), (x, y, z, w))\"\n",
    "\n",
    "The above exception was the direct cause of the following exception:\n",
    "\n",
    "Traceback (most recent call last):\n",
    "  File \"/home/ykw5399/.conda/envs/camel/lib/python3.10/site-packages/sympy/core/sympify.py\", line 495, in sympify\n",
    "    expr = parse_expr(a, local_dict=locals, transformations=transformations, evaluate=evaluate)\n",
    "  File \"/home/ykw5399/.conda/envs/camel/lib/python3.10/site-packages/sympy/parsing/sympy_parser.py\", line 1087, in parse_expr\n",
    "    raise e from ValueError(f\"Error from parse_expr with transformed code: {code!r}\")\n",
    "  File \"/home/ykw5399/.conda/envs/camel/lib/python3.10/site-packages/sympy/parsing/sympy_parser.py\", line 1078, in parse_expr\n",
    "    rv = eval_expr(code, local_dict, global_dict)\n",
    "  File \"/home/ykw5399/.conda/envs/camel/lib/python3.10/site-packages/sympy/parsing/sympy_parser.py\", line 906, in eval_expr\n",
    "    expr = eval(\n",
    "  File \"<string>\", line 1\n",
    "    Symbol ('Eq1' )=Eq (Symbol ('x' )+Symbol ('y' )+Symbol ('z' ),Integer (110 ))# sunglassesEq2 = Eq(x + w + z, 70)   # bathing suitsEq3 = Eq(w + y + z, 95)   # hatEq4 = Eq(x + z, 30)       # bathing suits and sunglassesEq5 = Eq(w + z, 25)       # bathing suits and hatEq6 = Eq(y + z, 40)       # sunglasses and hatsolve((Eq1, Eq2, Eq3, Eq4, Eq5, Eq6), (x, y, z, w))\n",
    "                   ^\n",
    "SyntaxError: invalid syntax\n",
    "\n",
    "During handling of the above exception, another exception occurred:\n",
    "\n",
    "Traceback (most recent call last):\n",
    "  File \"/home/ykw5399/.conda/envs/camel/lib/python3.10/site-packages/langchain/chains/llm_symbolic_math/base.py\", line 64, in _evaluate_expression\n",
    "    output = str(sympy.sympify(expression, evaluate=True))\n",
    "  File \"/home/ykw5399/.conda/envs/camel/lib/python3.10/site-packages/sympy/core/sympify.py\", line 497, in sympify\n",
    "    raise SympifyError('could not parse %r' % a, exc)\n",
    "sympy.core.sympify.SympifyError: Sympify of expression 'could not parse 'Eq1 = Eq(x + y + z, 110)  # sunglassesEq2 = Eq(x + w + z, 70)   # bathing suitsEq3 = Eq(w + y + z, 95)   # hatEq4 = Eq(x + z, 30)       # bathing suits and sunglassesEq5 = Eq(w + z, 25)       # bathing suits and hatEq6 = Eq(y + z, 40)       # sunglasses and hatsolve((Eq1, Eq2, Eq3, Eq4, Eq5, Eq6), (x, y, z, w))'' failed, because of exception being raised:\n",
    "SyntaxError: invalid syntax (<string>, line 1)\n",
    "\n",
    "During handling of the above exception, another exception occurred:\n",
    "\n",
    "... More errors not shown"
   ]
  },
  {
   "cell_type": "markdown",
   "metadata": {},
   "source": [
    "## [PAL Chain](https://python.langchain.com/docs/modules/chains/additional/pal)\n",
    "\n",
    "Tested on 2 problems, got one error and one wrong answer."
   ]
  },
  {
   "cell_type": "code",
   "execution_count": 12,
   "metadata": {},
   "outputs": [
    {
     "name": "stdout",
     "output_type": "stream",
     "text": [
      "\n",
      "\n",
      "\u001b[1m> Entering new PALChain chain...\u001b[0m\n",
      "\u001b[32;1m\u001b[1;3mimport math\u001b[0m\n"
     ]
    },
    {
     "ename": "ValueError",
     "evalue": "Generated code is missing the solution expression: solution of type: <class 'ast.FunctionDef'>",
     "output_type": "error",
     "traceback": [
      "\u001b[0;31m---------------------------------------------------------------------------\u001b[0m",
      "\u001b[0;31mValueError\u001b[0m                                Traceback (most recent call last)",
      "Cell \u001b[0;32mIn[12], line 3\u001b[0m\n\u001b[1;32m      1\u001b[0m \u001b[39mfrom\u001b[39;00m \u001b[39mlangchain\u001b[39;00m\u001b[39m.\u001b[39;00m\u001b[39mchains\u001b[39;00m \u001b[39mimport\u001b[39;00m PALChain\n\u001b[1;32m      2\u001b[0m pal_chain \u001b[39m=\u001b[39m PALChain\u001b[39m.\u001b[39mfrom_math_prompt(llm, verbose\u001b[39m=\u001b[39m\u001b[39mTrue\u001b[39;00m)\n\u001b[0;32m----> 3\u001b[0m pal_chain\u001b[39m.\u001b[39;49mrun(math_problem1)\n",
      "File \u001b[0;32m~/.conda/envs/msft/lib/python3.9/site-packages/langchain/chains/base.py:440\u001b[0m, in \u001b[0;36mChain.run\u001b[0;34m(self, callbacks, tags, metadata, *args, **kwargs)\u001b[0m\n\u001b[1;32m    438\u001b[0m     \u001b[39mif\u001b[39;00m \u001b[39mlen\u001b[39m(args) \u001b[39m!=\u001b[39m \u001b[39m1\u001b[39m:\n\u001b[1;32m    439\u001b[0m         \u001b[39mraise\u001b[39;00m \u001b[39mValueError\u001b[39;00m(\u001b[39m\"\u001b[39m\u001b[39m`run` supports only one positional argument.\u001b[39m\u001b[39m\"\u001b[39m)\n\u001b[0;32m--> 440\u001b[0m     \u001b[39mreturn\u001b[39;00m \u001b[39mself\u001b[39;49m(args[\u001b[39m0\u001b[39;49m], callbacks\u001b[39m=\u001b[39;49mcallbacks, tags\u001b[39m=\u001b[39;49mtags, metadata\u001b[39m=\u001b[39;49mmetadata)[\n\u001b[1;32m    441\u001b[0m         _output_key\n\u001b[1;32m    442\u001b[0m     ]\n\u001b[1;32m    444\u001b[0m \u001b[39mif\u001b[39;00m kwargs \u001b[39mand\u001b[39;00m \u001b[39mnot\u001b[39;00m args:\n\u001b[1;32m    445\u001b[0m     \u001b[39mreturn\u001b[39;00m \u001b[39mself\u001b[39m(kwargs, callbacks\u001b[39m=\u001b[39mcallbacks, tags\u001b[39m=\u001b[39mtags, metadata\u001b[39m=\u001b[39mmetadata)[\n\u001b[1;32m    446\u001b[0m         _output_key\n\u001b[1;32m    447\u001b[0m     ]\n",
      "File \u001b[0;32m~/.conda/envs/msft/lib/python3.9/site-packages/langchain/chains/base.py:243\u001b[0m, in \u001b[0;36mChain.__call__\u001b[0;34m(self, inputs, return_only_outputs, callbacks, tags, metadata, include_run_info)\u001b[0m\n\u001b[1;32m    241\u001b[0m \u001b[39mexcept\u001b[39;00m (\u001b[39mKeyboardInterrupt\u001b[39;00m, \u001b[39mException\u001b[39;00m) \u001b[39mas\u001b[39;00m e:\n\u001b[1;32m    242\u001b[0m     run_manager\u001b[39m.\u001b[39mon_chain_error(e)\n\u001b[0;32m--> 243\u001b[0m     \u001b[39mraise\u001b[39;00m e\n\u001b[1;32m    244\u001b[0m run_manager\u001b[39m.\u001b[39mon_chain_end(outputs)\n\u001b[1;32m    245\u001b[0m final_outputs: Dict[\u001b[39mstr\u001b[39m, Any] \u001b[39m=\u001b[39m \u001b[39mself\u001b[39m\u001b[39m.\u001b[39mprep_outputs(\n\u001b[1;32m    246\u001b[0m     inputs, outputs, return_only_outputs\n\u001b[1;32m    247\u001b[0m )\n",
      "File \u001b[0;32m~/.conda/envs/msft/lib/python3.9/site-packages/langchain/chains/base.py:237\u001b[0m, in \u001b[0;36mChain.__call__\u001b[0;34m(self, inputs, return_only_outputs, callbacks, tags, metadata, include_run_info)\u001b[0m\n\u001b[1;32m    231\u001b[0m run_manager \u001b[39m=\u001b[39m callback_manager\u001b[39m.\u001b[39mon_chain_start(\n\u001b[1;32m    232\u001b[0m     dumpd(\u001b[39mself\u001b[39m),\n\u001b[1;32m    233\u001b[0m     inputs,\n\u001b[1;32m    234\u001b[0m )\n\u001b[1;32m    235\u001b[0m \u001b[39mtry\u001b[39;00m:\n\u001b[1;32m    236\u001b[0m     outputs \u001b[39m=\u001b[39m (\n\u001b[0;32m--> 237\u001b[0m         \u001b[39mself\u001b[39;49m\u001b[39m.\u001b[39;49m_call(inputs, run_manager\u001b[39m=\u001b[39;49mrun_manager)\n\u001b[1;32m    238\u001b[0m         \u001b[39mif\u001b[39;00m new_arg_supported\n\u001b[1;32m    239\u001b[0m         \u001b[39melse\u001b[39;00m \u001b[39mself\u001b[39m\u001b[39m.\u001b[39m_call(inputs)\n\u001b[1;32m    240\u001b[0m     )\n\u001b[1;32m    241\u001b[0m \u001b[39mexcept\u001b[39;00m (\u001b[39mKeyboardInterrupt\u001b[39;00m, \u001b[39mException\u001b[39;00m) \u001b[39mas\u001b[39;00m e:\n\u001b[1;32m    242\u001b[0m     run_manager\u001b[39m.\u001b[39mon_chain_error(e)\n",
      "File \u001b[0;32m~/.conda/envs/msft/lib/python3.9/site-packages/langchain/chains/pal/base.py:166\u001b[0m, in \u001b[0;36mPALChain._call\u001b[0;34m(self, inputs, run_manager)\u001b[0m\n\u001b[1;32m    162\u001b[0m code \u001b[39m=\u001b[39m \u001b[39mself\u001b[39m\u001b[39m.\u001b[39mllm_chain\u001b[39m.\u001b[39mpredict(\n\u001b[1;32m    163\u001b[0m     stop\u001b[39m=\u001b[39m[\u001b[39mself\u001b[39m\u001b[39m.\u001b[39mstop], callbacks\u001b[39m=\u001b[39m_run_manager\u001b[39m.\u001b[39mget_child(), \u001b[39m*\u001b[39m\u001b[39m*\u001b[39minputs\n\u001b[1;32m    164\u001b[0m )\n\u001b[1;32m    165\u001b[0m _run_manager\u001b[39m.\u001b[39mon_text(code, color\u001b[39m=\u001b[39m\u001b[39m\"\u001b[39m\u001b[39mgreen\u001b[39m\u001b[39m\"\u001b[39m, end\u001b[39m=\u001b[39m\u001b[39m\"\u001b[39m\u001b[39m\\n\u001b[39;00m\u001b[39m\"\u001b[39m, verbose\u001b[39m=\u001b[39m\u001b[39mself\u001b[39m\u001b[39m.\u001b[39mverbose)\n\u001b[0;32m--> 166\u001b[0m PALChain\u001b[39m.\u001b[39;49mvalidate_code(code, \u001b[39mself\u001b[39;49m\u001b[39m.\u001b[39;49mcode_validations)\n\u001b[1;32m    167\u001b[0m repl \u001b[39m=\u001b[39m PythonREPL(_globals\u001b[39m=\u001b[39m\u001b[39mself\u001b[39m\u001b[39m.\u001b[39mpython_globals, _locals\u001b[39m=\u001b[39m\u001b[39mself\u001b[39m\u001b[39m.\u001b[39mpython_locals)\n\u001b[1;32m    168\u001b[0m res \u001b[39m=\u001b[39m repl\u001b[39m.\u001b[39mrun(code \u001b[39m+\u001b[39m \u001b[39mf\u001b[39m\u001b[39m\"\u001b[39m\u001b[39m\\n\u001b[39;00m\u001b[39m{\u001b[39;00m\u001b[39mself\u001b[39m\u001b[39m.\u001b[39mget_answer_expr\u001b[39m}\u001b[39;00m\u001b[39m\"\u001b[39m, timeout\u001b[39m=\u001b[39m\u001b[39mself\u001b[39m\u001b[39m.\u001b[39mtimeout)\n",
      "File \u001b[0;32m~/.conda/envs/msft/lib/python3.9/site-packages/langchain/chains/pal/base.py:225\u001b[0m, in \u001b[0;36mPALChain.validate_code\u001b[0;34m(cls, code, code_validations)\u001b[0m\n\u001b[1;32m    222\u001b[0m         has_imports \u001b[39m=\u001b[39m \u001b[39mTrue\u001b[39;00m\n\u001b[1;32m    224\u001b[0m \u001b[39mif\u001b[39;00m \u001b[39mnot\u001b[39;00m found_solution_expr:\n\u001b[0;32m--> 225\u001b[0m     \u001b[39mraise\u001b[39;00m \u001b[39mValueError\u001b[39;00m(\n\u001b[1;32m    226\u001b[0m         \u001b[39mf\u001b[39m\u001b[39m\"\u001b[39m\u001b[39mGenerated code is missing the solution expression: \u001b[39m\u001b[39m\"\u001b[39m\n\u001b[1;32m    227\u001b[0m         \u001b[39mf\u001b[39m\u001b[39m\"\u001b[39m\u001b[39m{\u001b[39;00mcode_validations\u001b[39m.\u001b[39msolution_expression_name\u001b[39m}\u001b[39;00m\u001b[39m of type: \u001b[39m\u001b[39m\"\u001b[39m\n\u001b[1;32m    228\u001b[0m         \u001b[39mf\u001b[39m\u001b[39m\"\u001b[39m\u001b[39m{\u001b[39;00mcode_validations\u001b[39m.\u001b[39msolution_expression_type\u001b[39m}\u001b[39;00m\u001b[39m\"\u001b[39m\n\u001b[1;32m    229\u001b[0m     )\n\u001b[1;32m    231\u001b[0m \u001b[39mif\u001b[39;00m \u001b[39mnot\u001b[39;00m code_validations\u001b[39m.\u001b[39mallow_imports \u001b[39mand\u001b[39;00m has_imports:\n\u001b[1;32m    232\u001b[0m     \u001b[39mraise\u001b[39;00m \u001b[39mValueError\u001b[39;00m(\u001b[39mf\u001b[39m\u001b[39m\"\u001b[39m\u001b[39mGenerated code has disallowed imports: \u001b[39m\u001b[39m{\u001b[39;00mcode\u001b[39m}\u001b[39;00m\u001b[39m\"\u001b[39m)\n",
      "\u001b[0;31mValueError\u001b[0m: Generated code is missing the solution expression: solution of type: <class 'ast.FunctionDef'>"
     ]
    }
   ],
   "source": [
    "from langchain.chains import PALChain\n",
    "pal_chain = PALChain.from_math_prompt(llm, verbose=True)\n",
    "pal_chain.run(math_problem1)"
   ]
  },
  {
   "cell_type": "markdown",
   "metadata": {},
   "source": [
    "**Previous Result:**   \n",
    " Entering new PALChain chain...\n",
    "def solution():\n",
    "    \"\"\"Find all $x$ that satisfy the inequality $(2x+10)(x+3)<(3x+9)(x+8)$. Express your answer in interval notation.\"\"\"\n",
    "    from sympy import *\n",
    "    from sympy.abc import x\n",
    "Traceback (most recent call last):\n",
    "  File \"/home/ykw5399/msft/FLAML/evaluation/math/test_math_chains.py\", line 17, in <module>\n",
    "    print(pal_chain.run(math_problem))\n",
    "  File \"/home/ykw5399/.conda/envs/camel/lib/python3.10/site-packages/langchain/chains/base.py\", line 440, in run\n",
    "    return self(args[0], callbacks=callbacks, tags=tags, metadata=metadata)[\n",
    "  File \"/home/ykw5399/.conda/envs/camel/lib/python3.10/site-packages/langchain/chains/base.py\", line 243, in __call__\n",
    "    raise e\n",
    "  File \"/home/ykw5399/.conda/envs/camel/lib/python3.10/site-packages/langchain/chains/base.py\", line 237, in __call__\n",
    "    self._call(inputs, run_manager=run_manager)\n",
    "  File \"/home/ykw5399/.conda/envs/camel/lib/python3.10/site-packages/langchain/chains/pal/base.py\", line 166, in _call\n",
    "    PALChain.validate_code(code, self.code_validations)\n",
    "  File \"/home/ykw5399/.conda/envs/camel/lib/python3.10/site-packages/langchain/chains/pal/base.py\", line 261, in validate_code\n",
    "    raise ValueError(f\"Generated code has disallowed imports: {code}\")\n",
    "ValueError: Generated code has disallowed imports: def solution():\n",
    "    \"\"\"Find all $x$ that satisfy the inequality $(2x+10)(x+3)<(3x+9)(x+8)$. Express your answer in interval notation.\"\"\"\n",
    "    from sympy import *\n",
    "    from sympy.abc import x"
   ]
  },
  {
   "cell_type": "code",
   "execution_count": 13,
   "metadata": {},
   "outputs": [
    {
     "name": "stdout",
     "output_type": "stream",
     "text": [
      "\n",
      "\n",
      "\u001b[1m> Entering new PALChain chain...\u001b[0m\n",
      "\u001b[32;1m\u001b[1;3mdef solution():\n",
      "    \"\"\"There are 190 people on the beach.  110 are wearing sunglasses, 70 are wearing bathing suits, and 95 are wearing a hat.  Everyone is wearing at least one of these items. 30 are wearing both bathing suits and sunglasses. 25 are wearing both bathing suits and a hat. 40 are wearing both sunglasses and a hat.  How many people are wearing all three items?\"\"\"\n",
      "    total_people = 190\n",
      "    sunglasses = 110\n",
      "    bathing_suits = 70\n",
      "    hats = 95\n",
      "    both_sunglasses_bathing_suits = 30\n",
      "    both_bathing_suits_hats = 25\n",
      "    both_sunglasses_hats = 40\u001b[0m\n",
      "\n",
      "\u001b[1m> Finished chain.\u001b[0m\n"
     ]
    },
    {
     "data": {
      "text/plain": [
       "'None'"
      ]
     },
     "execution_count": 13,
     "metadata": {},
     "output_type": "execute_result"
    }
   ],
   "source": [
    "pal_chain.run(math_problem2)"
   ]
  },
  {
   "cell_type": "markdown",
   "metadata": {},
   "source": [
    "**Another run of math_problem2:** \n",
    "Entering new PALChain chain...\n",
    "def solution():\n",
    "    \"\"\"There are 190 people on the beach.  110 are wearing sunglasses, 70 are wearing bathing suits, and 95 are wearing a hat.  Everyone is wearing at least one of these items. 30 are wearing both bathing suits and sunglasses. 25 are wearing both bathing suits and a hat. 40 are wearing both sunglasses and a hat.  How many people are wearing all three items?\"\"\"\n",
    "    total_people = 190\n",
    "    sunglasses = 110\n",
    "    bathing_suits = 70\n",
    "    hats = 95\n",
    "    both_bathing_suits_sunglasses = 30\n",
    "    both_bathing_suits_hats = 25\n",
    "    both_sunglasses_hats = 40\n",
    "    all_three = (sunglasses + bathing_suits + hats) - (both_bathing_suits_sunglasses + both_bathing_suits_hats + both_sunglasses_hats)\n",
    "    result = all_three\n",
    "    return result\n",
    "Python REPL can execute arbitrary code. Use with caution.\n",
    "\n",
    "Finished chain.\n",
    "180\n",
    "\n",
    "The correct answer is 10."
   ]
  },
  {
   "cell_type": "markdown",
   "metadata": {},
   "source": [
    "##  [math chain](https://python.langchain.com/docs/modules/chains/additional/llm_math)\n",
    "\n",
    "Mathchain got the first problem correct and the second problem wrong."
   ]
  },
  {
   "cell_type": "code",
   "execution_count": 14,
   "metadata": {},
   "outputs": [
    {
     "name": "stdout",
     "output_type": "stream",
     "text": [
      "\n",
      "\n",
      "\u001b[1m> Entering new LLMMathChain chain...\u001b[0m\n",
      "Completely simplify and rationalize the denominator: $$\frac{\\sqrt{160}}{\\sqrt{252}}\times\frac{\\sqrt{245}}{\\sqrt{108}}$$\u001b[32;1m\u001b[1;3m```text\n",
      "(sqrt(160)/sqrt(252)) * (sqrt(245)/sqrt(108))\n",
      "```\n",
      "...numexpr.evaluate(\"(sqrt(160)/sqrt(252)) * (sqrt(245)/sqrt(108))\")...\n",
      "\u001b[0m\n",
      "Answer: \u001b[33;1m\u001b[1;3m1.2001371663718259\u001b[0m\n",
      "\u001b[1m> Finished chain.\u001b[0m\n"
     ]
    },
    {
     "data": {
      "text/plain": [
       "'Answer: 1.2001371663718259'"
      ]
     },
     "execution_count": 14,
     "metadata": {},
     "output_type": "execute_result"
    }
   ],
   "source": [
    "from langchain import LLMMathChain\n",
    "\n",
    "llm_math = LLMMathChain.from_llm(llm, verbose=True)\n",
    "llm_math.run(math_problem1)"
   ]
  },
  {
   "cell_type": "code",
   "execution_count": 16,
   "metadata": {},
   "outputs": [
    {
     "name": "stdout",
     "output_type": "stream",
     "text": [
      "\n",
      "\n",
      "\u001b[1m> Entering new LLMMathChain chain...\u001b[0m\n",
      "There are 190 people on the beach.  110 are wearing sunglasses, 70 are wearing bathing suits, and 95 are wearing a hat.  Everyone is wearing at least one of these items. 30 are wearing both bathing suits and sunglasses. 25 are wearing both bathing suits and a hat. 40 are wearing both sunglasses and a hat.  How many people are wearing all three items?\u001b[32;1m\u001b[1;3m```text\n",
      "190 - 110 - 70 - 95 + 30 + 25 + 40\n",
      "```\n",
      "...numexpr.evaluate(\"190 - 110 - 70 - 95 + 30 + 25 + 40\")...\n",
      "\u001b[0m\n",
      "Answer: \u001b[33;1m\u001b[1;3m10\u001b[0m\n",
      "\u001b[1m> Finished chain.\u001b[0m\n"
     ]
    },
    {
     "data": {
      "text/plain": [
       "'Answer: 10'"
      ]
     },
     "execution_count": 16,
     "metadata": {},
     "output_type": "execute_result"
    }
   ],
   "source": [
    "llm_math.run(math_problem2)"
   ]
  },
  {
   "cell_type": "markdown",
   "metadata": {},
   "source": [
    "## Test ReAct + PythonREPL\n",
    "Langchain agent for ReAct example: https://python.langchain.com/docs/modules/agents/agent_types/react    \n",
    "ReAct: https://react-lm.github.io/\n",
    "\n",
    "ReAct got the first problem correct and the second problem wrong."
   ]
  },
  {
   "cell_type": "code",
   "execution_count": 7,
   "metadata": {},
   "outputs": [
    {
     "name": "stdout",
     "output_type": "stream",
     "text": [
      "\n",
      "\n",
      "\u001b[1m> Entering new AgentExecutor chain...\u001b[0m\n"
     ]
    },
    {
     "name": "stdout",
     "output_type": "stream",
     "text": [
      "\u001b[32;1m\u001b[1;3mFirst, I will simplify each square root separately. Then I will multiply the numerators together and the denominators together. If the result is not a rational number, I will rationalize the denominator. \n",
      "Action: Python_REPL\n",
      "Action Input: \n",
      "```python\n",
      "import math\n",
      "\n",
      "# simplifying square roots\n",
      "sqrt_160 = math.sqrt(160)\n",
      "sqrt_252 = math.sqrt(252)\n",
      "sqrt_245 = math.sqrt(245)\n",
      "sqrt_108 = math.sqrt(108)\n",
      "\n",
      "# multiplying numerators and denominators\n",
      "numerator = sqrt_160 * sqrt_245\n",
      "denominator = sqrt_252 * sqrt_108\n",
      "\n",
      "print(numerator, denominator)\n",
      "```\u001b[0m\n",
      "Observation: \u001b[36;1m\u001b[1;3m197.98989873223334 164.97272501841024\n",
      "\u001b[0m\n",
      "Thought:\u001b[32;1m\u001b[1;3mI have simplified the square roots and multiplied the numerators and denominators together. Now, I will divide the numerator by the denominator to simplify the expression further.\n",
      "Action: Python_REPL\n",
      "Action Input: \n",
      "```python\n",
      "# divide numerator by denominator\n",
      "result = numerator / denominator\n",
      "\n",
      "print(result)\n",
      "```\u001b[0m\n",
      "Observation: \u001b[36;1m\u001b[1;3m1.200137166371826\n",
      "\u001b[0m\n",
      "Thought:\u001b[32;1m\u001b[1;3mThe result is a rational number, so there is no need to rationalize the denominator anymore.\n",
      "Final Answer: 1.200137166371826\u001b[0m\n",
      "\n",
      "\u001b[1m> Finished chain.\u001b[0m\n"
     ]
    },
    {
     "data": {
      "text/plain": [
       "'1.200137166371826'"
      ]
     },
     "execution_count": 7,
     "metadata": {},
     "output_type": "execute_result"
    }
   ],
   "source": [
    "from langchain.agents import initialize_agent\n",
    "from langchain.agents import AgentType\n",
    "from langchain.tools.python.tool import PythonREPLTool\n",
    "\n",
    "tools = [PythonREPLTool()]\n",
    "agent = initialize_agent(tools, llm, agent=AgentType.ZERO_SHOT_REACT_DESCRIPTION, verbose=True)\n",
    "agent.run(math_problem2)"
   ]
  },
  {
   "cell_type": "code",
   "execution_count": 15,
   "metadata": {},
   "outputs": [
    {
     "name": "stdout",
     "output_type": "stream",
     "text": [
      "\n",
      "\n",
      "\u001b[1m> Entering new AgentExecutor chain...\u001b[0m\n",
      "\u001b[32;1m\u001b[1;3mThis is a question about sets and their intersections. The total number of people on the beach is the union of the three sets: people wearing sunglasses, people wearing bathing suits and people wearing a hat. The intersections of these sets are the people wearing two of these items. The intersection of all three sets is the people wearing all three items. We need to find this last number.\n",
      "To solve this, we can use the principle of inclusion and exclusion, which states that for three sets A, B and C, the number of elements in the union of the sets is equal to the sum of the sizes of the sets minus the sum of the sizes of their pairwise intersections, plus the size of their triple intersection.\n",
      "Let's denote the number of people wearing sunglasses as S, the number of people wearing bathing suits as B, the number of people wearing a hat as H, the number of people wearing both bathing suits and sunglasses as BS, the number of people wearing both bathing suits and a hat as BH, the number of people wearing both sunglasses and a hat as SH, the total number of people on the beach as T and the number of people wearing all three items as X.\n",
      "We can express this principle as an equation: T = S + B + H - BS - BH - SH + X. We know all the numbers in this equation except for X, so we can solve for X.\n",
      "Action: Python_REPL\n",
      "Action Input: T = 190\n",
      "S = 110\n",
      "B = 70\n",
      "H = 95\n",
      "BS = 30\n",
      "BH = 25\n",
      "SH = 40\n",
      "X = T - S - B - H + BS + BH + SH\n",
      "print(X)\u001b[0m\n",
      "Observation: \u001b[36;1m\u001b[1;3m10\n",
      "\u001b[0m\n",
      "Thought:\u001b[32;1m\u001b[1;3mI now know the final answer\n",
      "Final Answer: 10\u001b[0m\n",
      "\n",
      "\u001b[1m> Finished chain.\u001b[0m\n"
     ]
    },
    {
     "data": {
      "text/plain": [
       "'10'"
      ]
     },
     "execution_count": 15,
     "metadata": {},
     "output_type": "execute_result"
    }
   ],
   "source": [
    "agent.run(math_problem2)"
   ]
  }
 ],
 "metadata": {
  "kernelspec": {
   "display_name": "msft",
   "language": "python",
   "name": "python3"
  },
  "language_info": {
   "codemirror_mode": {
    "name": "ipython",
    "version": 3
   },
   "file_extension": ".py",
   "mimetype": "text/x-python",
   "name": "python",
   "nbconvert_exporter": "python",
   "pygments_lexer": "ipython3",
   "version": "3.9.16"
  },
  "orig_nbformat": 4
 },
 "nbformat": 4,
 "nbformat_minor": 2
}
