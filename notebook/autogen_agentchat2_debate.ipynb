{
 "cells": [
  {
   "cell_type": "code",
   "execution_count": 1,
   "metadata": {},
   "outputs": [],
   "source": [
    "%load_ext autoreload\n",
    "%autoreload 2"
   ]
  },
  {
   "cell_type": "code",
   "execution_count": 2,
   "metadata": {},
   "outputs": [],
   "source": [
    "from flaml.autogen.agentchat2.llm_chat import (\n",
    "    LLMChatMessage,\n",
    "    LLMChatAgent,\n",
    "    LLMChatMessageStream,\n",
    "    LLMChatContext,\n",
    "    llm_chat_action,\n",
    "    llm_chat_trigger,\n",
    ")\n",
    "from flaml.autogen import oai"
   ]
  },
  {
   "cell_type": "code",
   "execution_count": 3,
   "metadata": {},
   "outputs": [],
   "source": [
    "stream = LLMChatMessageStream()"
   ]
  },
  {
   "cell_type": "code",
   "execution_count": 4,
   "metadata": {},
   "outputs": [],
   "source": [
    "participant1 = LLMChatAgent(\n",
    "    name=\"participant1\",\n",
    "    message_stream=stream,\n",
    "    partner_name=\"participant2\",\n",
    "    system_message={\n",
    "        \"role\": \"system\",\n",
    "        \"content\": \"You are debating with user whether it is better to travel to Yellow Stone from Seattle by car or by flight. Your position is that car is better.\",\n",
    "    },\n",
    "    llm_config={\"temperature\": 0.9, \"model\": \"gpt-3.5-turbo\"},\n",
    ")\n",
    "participant2 = LLMChatAgent(\n",
    "    name=\"participant2\",\n",
    "    message_stream=stream,\n",
    "    partner_name=\"participant1\",\n",
    "    system_message={\n",
    "        \"role\": \"system\",\n",
    "        \"content\": \"You are debating with user whether it is better to travel to Yellow Stone from Seattle by car or by flight. Your position is that flight is better.\",\n",
    "    },\n",
    "    llm_config={\"temperature\": 0.9, \"model\": \"gpt-3.5-turbo\"},\n",
    ")"
   ]
  },
  {
   "cell_type": "code",
   "execution_count": 5,
   "metadata": {},
   "outputs": [
    {
     "name": "stderr",
     "output_type": "stream",
     "text": [
      "2023-08-03 15:59:17,004 DEBUG Adding subscriber <flaml.autogen.agentchat2.llm_chat.LLMChatAgent object at 0x7ff88d5db110> to address participant1\n",
      "2023-08-03 15:59:17,005 DEBUG Adding subscriber <flaml.autogen.agentchat2.llm_chat.LLMChatAgent object at 0x7ff88d5db210> to address participant2\n"
     ]
    }
   ],
   "source": [
    "stream.add_subscriber(participant1)\n",
    "stream.add_subscriber(participant2)"
   ]
  },
  {
   "cell_type": "code",
   "execution_count": 6,
   "metadata": {},
   "outputs": [],
   "source": [
    "participant1.register(lambda msg, ctx: llm_chat_trigger(msg, ctx) and len(ctx.chat_history) < 10, llm_chat_action)\n",
    "participant2.register(lambda msg, ctx: llm_chat_trigger(msg, ctx) and len(ctx.chat_history) < 10, llm_chat_action)"
   ]
  },
  {
   "cell_type": "code",
   "execution_count": 7,
   "metadata": {},
   "outputs": [
    {
     "name": "stderr",
     "output_type": "stream",
     "text": [
      "2023-08-03 15:59:17,061 DEBUG Send message LLMChatMessage(sender_name=participant2, receiver_name=participant1, message={'role': 'user', 'content': 'It is better to travel to Yellow Stone by flight.'}) to address participant1\n"
     ]
    }
   ],
   "source": [
    "stream.send(\n",
    "    LLMChatMessage(\n",
    "        sender_name=\"participant2\",\n",
    "        receiver_name=\"participant1\",\n",
    "        message={\"role\": \"user\", \"content\": \"It is better to travel to Yellow Stone by flight.\"},\n",
    "    ),\n",
    ")"
   ]
  },
  {
   "cell_type": "code",
   "execution_count": 8,
   "metadata": {},
   "outputs": [
    {
     "name": "stderr",
     "output_type": "stream",
     "text": [
      "2023-08-03 15:59:17,095 DEBUG Send message LLMChatMessage(sender_name=participant1, receiver_name=participant2, message={'role': 'user', 'content': 'I understand that flying might seem like a convenient option, but let me explain why traveling to Yellowstone by car is actually a better choice.\\n\\nFirstly, traveling by car offers a unique opportunity to enjoy the scenic beauty along the way. The drive from Seattle to Yellowstone National Park takes you through picturesque landscapes, such as the Cascade Mountains, Shoshone National Forest, and Grand Teton National Park. You can stop at various viewpoints, take photos, and appreciate the natural beauty that surrounds you.\\n\\nSecondly, traveling by car allows for more flexibility and independence. You have the freedom to create your own itinerary, make unplanned stops, and explore lesser-known attractions or hidden gems. This flexibility is especially valuable when visiting national parks like Yellowstone, where there are numerous trails, viewpoints, and wildlife sightings to experience.\\n\\nMoreover, by driving, you have the advantage of bringing along camping gear, hiking equipment, or any other supplies you may need during your visit. This can save you money on rental costs or additional baggage fees that you would incur when flying.\\n\\nAnother benefit of traveling by car is that you can control your own schedule. Unlike flying, where you have to adhere to strict flight times and possible delays, driving allows you to set your own pace and spend as much or as little time as you like in each location.\\n\\nLastly, traveling by car can be a more cost-effective option, especially if you are traveling with a group. Splitting the cost of gas and accommodations can significantly reduce the overall expenses compared to buying multiple plane tickets.\\n\\nIn conclusion, traveling to Yellowstone by car offers a more scenic and flexible experience, providing you with the chance to make the most of your trip. The freedom, independence, and cost-effectiveness of a road trip make it the preferable choice over a flight.'}) to address participant2\n",
      "2023-08-03 15:59:17,108 DEBUG Send message LLMChatMessage(sender_name=participant2, receiver_name=participant1, message={'role': 'user', 'content': \"While I can appreciate the points you've made about the benefits of traveling by car to Yellowstone from Seattle, I would still argue that flying is a better option. Here's why:\\n\\nFirstly, flying offers a significant time-saving advantage. The distance between Seattle and Yellowstone is approximately 700 miles, and driving can take around 11-12 hours depending on traffic and stops along the way. On the other hand, a direct flight from Seattle to Bozeman, Montana, which is the closest airport to Yellowstone, takes just a little over two hours. This time saved can be used to explore and enjoy Yellowstone itself.\\n\\nSecondly, flying allows you to avoid the fatigue and potential stress of a long road trip. Driving for such a long distance can be tiring, especially if you're the one behind the wheel. It can also be mentally draining, navigating through unfamiliar roads and potentially encountering traffic or road construction. By flying, you can arrive at your destination feeling refreshed and ready to explore.\\n\\nFurthermore, flying can be a safer option. Long road trips involve risks such as accidents, tired driving, or unforeseen car troubles. By choosing to fly, you eliminate these potential risks and ensure a safer journey.\\n\\nAdditionally, flying can provide a more comfortable and enjoyable experience overall. Modern airplanes offer amenities like in-flight entertainment, comfortable seating, and access to snacks and refreshments. You can relax, take in the views from above, and arrive at your destination feeling more comfortable and relaxed compared to the potential discomfort of a long car journey.\\n\\nLastly, flying can be more environmentally friendly. While cars contribute to greenhouse gas emissions, airplanes are designed to be more fuel-efficient and emit fewer emissions per passenger mile. This can be particularly important when traveling to national parks like Yellowstone, which need to be protected for future generations.\\n\\nIn summary, while traveling by car to Yellowstone from Seattle may offer certain advantages such as scenic views and flexibility, flying provides time savings, convenience, safety, comfort, and environmental benefits. These factors make flying a better option for a trip to Yellowstone National Park.\"}) to address participant1\n",
      "2023-08-03 15:59:17,122 DEBUG Send message LLMChatMessage(sender_name=participant1, receiver_name=participant2, message={'role': 'user', 'content': \"I understand your points about time-saving and convenience when flying to Yellowstone from Seattle. However, I still believe that traveling by car is a better option. Allow me to counter your arguments:\\n\\nWhile flying may be faster in terms of travel time, it's important to note that the journey itself can be an enjoyable part of the overall experience. Driving from Seattle to Yellowstone provides an opportunity to take in the stunning landscapes and natural beauty along the way. The Cascade Mountains, Shoshone National Forest, and Grand Teton National Park offer breathtaking views that you wouldn't get to see from a plane window.\\n\\nMoreover, driving gives you the flexibility to explore at your own pace and make spontaneous stops at attractions or viewpoints that catch your eye. Yellowstone is renowned for its wildlife, and driving allows you to spot animals in their natural habitat, something you would miss when traveling by plane.\\n\\nAdditionally, by driving, you have the advantage of bringing along all the necessary gear and supplies you might need during your stay at Yellowstone. This can save you money on rentals or buying new equipment. It also offers the convenience of having your belongings easily accessible throughout the trip.\\n\\nIn terms of safety, while accidents can happen on road trips, it's important to note that driving responsibly and following traffic rules greatly reduces the risks. Moreover, being in control of your own vehicle allows you to make driving breaks when needed, ensuring rest and preventing fatigue.\\n\\nFinally, traveling by car can be a more cost-effective option, especially if you are traveling with multiple people. Splitting the cost of gas and accommodations can significantly reduce expenses compared to buying multiple plane tickets.\\n\\nIn conclusion, while flying may offer convenience and time savings, traveling by car to Yellowstone allows you to fully immerse yourself in the journey, enjoy the scenic beauty, and have more control over your itinerary. The flexibility, cost-effectiveness, and overall experience make traveling by car the better choice for a trip to Yellowstone.\"}) to address participant2\n",
      "2023-08-03 15:59:17,135 DEBUG Send message LLMChatMessage(sender_name=participant2, receiver_name=participant1, message={'role': 'user', 'content': \"I understand your perspective on the enjoyment and flexibility of a road trip to Yellowstone from Seattle. However, I still believe that flying is the better option. Let me address your counterarguments:\\n\\nWhile it's true that driving allows you to enjoy the scenic beauty along the way, flying offers the opportunity to maximize your time at Yellowstone itself. By flying, you can arrive at your destination quickly and efficiently, allowing you to spend more time exploring the park and its attractions. The time saved from not driving can be used to experience the geysers, wildlife, and hiking trails that Yellowstone has to offer.\\n\\nRegarding flexibility, while driving allows for spontaneous stops, Yellowstone National Park is vast and there are plenty of opportunities for exploration within the park itself. With numerous trails, viewpoints, and attractions, you can still have the freedom to create your own itinerary and make exciting discoveries without the need for a long drive from Seattle.\\n\\nAdditionally, flying provides a more comfortable and stress-free experience. Long road trips can be physically and mentally exhausting, as they require constant attention on the road and potential encounters with traffic or road construction. By flying, you eliminate the fatigue and stress associated with driving, allowing you to arrive at your destination feeling refreshed and ready to explore.\\n\\nIn terms of cost, although driving can be more cost-effective for larger groups, it's important to consider the additional expenses that come with a road trip, such as gas, tolls, parking fees, and potential wear and tear on the vehicle. When comparing the total cost of driving to the cost of flights, especially if you can find good deals on airfare, flying may actually be more affordable, especially for solo travelers or smaller groups.\\n\\nLastly, in terms of environmental impact, flying can still be a more sustainable option. Airlines are constantly working to improve fuel efficiency and reduce greenhouse gas emissions. Additionally, you can consider purchasing carbon offsets to mitigate the environmental impact of your flight.\\n\\nIn conclusion, while driving may offer enjoyment and flexibility, flying provides time efficiency, comfort, and a stress-free experience. Moreover, it allows you to make the most of your time at Yellowstone National Park. With reduced travel time, you can immerse yourself in the park's natural wonders and enjoy a more relaxed experience.\"}) to address participant1\n",
      "2023-08-03 15:59:17,149 DEBUG Send message LLMChatMessage(sender_name=participant1, receiver_name=participant2, message={'role': 'user', 'content': 'I understand your points, and you make some valid arguments for flying to Yellowstone from Seattle. However, I would still argue that traveling by car is the better option. Let me counter your points:\\n\\nWhile flying offers time efficiency, driving to Yellowstone allows for a more immersive and enjoyable journey. The scenic beauty and diverse landscapes along the drive can be a memorable part of the overall experience. From the lush forests of the Cascade Mountains to the majestic Grand Teton National Park, driving allows you to appreciate the natural beauty that surrounds you and make the journey itself an adventure.\\n\\nFlexibility is another key advantage of traveling by car. Yellowstone National Park is vast, and there are numerous attractions, viewpoints, and hiking trails to explore. By driving, you have the freedom to make spontaneous stops, explore lesser-known areas, and create a personalized itinerary, which may not be possible with a fixed flight schedule.\\n\\nAdditionally, traveling by car allows for greater convenience and the ability to bring along all the necessary equipment, supplies, and personal belongings. This is particularly beneficial when visiting a national park like Yellowstone, where you may need camping gear, hiking equipment, or other specific items. By having your own vehicle, you have easy access to everything you need throughout your trip.\\n\\nDriving can also be a more cost-effective option, especially for larger groups or families. Splitting the cost of gas, accommodations, and potentially camping fees can significantly reduce the overall expenses compared to purchasing multiple plane tickets and paying for additional baggage or rental costs.\\n\\nFurthermore, driving provides a more sustainable and environmentally friendly option. While planes have made improvements in fuel efficiency, the carbon emissions from air travel still contribute to climate change. By driving, you have the opportunity to reduce your carbon footprint and contribute to a more sustainable mode of transportation.\\n\\nIn conclusion, while flying may provide time efficiency and convenience, traveling to Yellowstone by car offers a more immersive experience, flexibility, convenience, cost-effectiveness, and a smaller environmental impact. It allows you to enjoy the journey, explore at your own pace, and have greater control over your itinerary, making it the better choice for a trip to Yellowstone National Park.'}) to address participant2\n",
      "2023-08-03 15:59:17,162 DEBUG Send message LLMChatMessage(sender_name=participant2, receiver_name=participant1, message={'role': 'user', 'content': \"You've made some compelling arguments for traveling to Yellowstone by car, and I appreciate your perspective. Both flying and driving have their advantages, and ultimately, the choice depends on personal preferences and priorities. Thank you for sharing your thoughts on this topic.\"}) to address participant1\n",
      "2023-08-03 15:59:17,178 DEBUG Send message LLMChatMessage(sender_name=participant1, receiver_name=participant2, message={'role': 'user', 'content': \"Thank you for engaging in this debate. You're absolutely right that the choice ultimately comes down to personal preferences and priorities. Both flying and driving have their merits, and it's important to consider what factors are most important to you when making the decision. Thank you for the insightful discussion!\"}) to address participant2\n",
      "2023-08-03 15:59:17,192 DEBUG Send message LLMChatMessage(sender_name=participant2, receiver_name=participant1, message={'role': 'user', 'content': \"You're welcome! It was a pleasure debating with you. I agree that ultimately, the decision should be based on personal preferences and priorities. I'm glad we could have a thoughtful discussion on the topic. Thank you for your participation!\"}) to address participant1\n",
      "2023-08-03 15:59:17,208 DEBUG Send message LLMChatMessage(sender_name=participant1, receiver_name=participant2, message={'role': 'user', 'content': \"You're welcome! I'm glad we could have a respectful and thoughtful discussion. It's important to explore different perspectives and considerations when making travel decisions. Thank you for engaging in this debate with me, and I hope you have a wonderful trip to Yellowstone, whether you choose to fly or drive!\"}) to address participant2\n",
      "2023-08-03 15:59:17,224 DEBUG Send message LLMChatMessage(sender_name=participant2, receiver_name=participant1, message={'role': 'user', 'content': 'Thank you! I appreciate your well wishes. Regardless of the mode of transportation chosen, Yellowstone is a beautiful destination that offers incredible natural wonders to explore. I hope you have a fantastic trip as well, and enjoy all that Yellowstone has to offer!'}) to address participant1\n"
     ]
    }
   ],
   "source": [
    "stream.run()"
   ]
  }
 ],
 "metadata": {
  "kernelspec": {
   "display_name": "flaml",
   "language": "python",
   "name": "python3"
  },
  "language_info": {
   "codemirror_mode": {
    "name": "ipython",
    "version": 3
   },
   "file_extension": ".py",
   "mimetype": "text/x-python",
   "name": "python",
   "nbconvert_exporter": "python",
   "pygments_lexer": "ipython3",
   "version": "3.11.4"
  },
  "orig_nbformat": 4
 },
 "nbformat": 4,
 "nbformat_minor": 2
}
