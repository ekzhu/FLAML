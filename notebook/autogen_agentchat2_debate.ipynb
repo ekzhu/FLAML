{
 "cells": [
  {
   "cell_type": "code",
   "execution_count": 1,
   "metadata": {},
   "outputs": [],
   "source": [
    "%load_ext autoreload\n",
    "%autoreload 2"
   ]
  },
  {
   "cell_type": "code",
   "execution_count": 2,
   "metadata": {},
   "outputs": [],
   "source": [
    "from flaml.autogen.agentchat2.llm_chat import (\n",
    "    LLMChatMessage,\n",
    "    LLMChatAgent,\n",
    "    LLMChatMessageStream,\n",
    "    llm_chat_action,\n",
    "    llm_chat_trigger,\n",
    ")\n"
   ]
  },
  {
   "cell_type": "code",
   "execution_count": 3,
   "metadata": {},
   "outputs": [],
   "source": [
    "stream = LLMChatMessageStream()"
   ]
  },
  {
   "cell_type": "code",
   "execution_count": 4,
   "metadata": {},
   "outputs": [
    {
     "name": "stderr",
     "output_type": "stream",
     "text": [
      "2023-08-04 11:16:03,167 DEBUG Adding subscriber <flaml.autogen.agentchat2.llm_chat.LLMChatAgent object at 0x10d732950> to address participant1\n",
      "2023-08-04 11:16:03,167 DEBUG Adding subscriber <flaml.autogen.agentchat2.llm_chat.LLMChatAgent object at 0x10647b310> to address participant2\n"
     ]
    }
   ],
   "source": [
    "participant1 = LLMChatAgent(\n",
    "    name=\"participant1\",\n",
    "    message_stream=stream,\n",
    "    partner_name=\"participant2\",\n",
    "    system_message={\n",
    "        \"role\": \"system\",\n",
    "        \"content\": \"You are debating with user whether it is better to travel to Yellow Stone from Seattle by car or by flight. Your position is that car is better.\",\n",
    "    },\n",
    "    llm_config={\"temperature\": 0.9, \"model\": \"gpt-3.5-turbo\"},\n",
    ")\n",
    "participant2 = LLMChatAgent(\n",
    "    name=\"participant2\",\n",
    "    message_stream=stream,\n",
    "    partner_name=\"participant1\",\n",
    "    system_message={\n",
    "        \"role\": \"system\",\n",
    "        \"content\": \"You are debating with user whether it is better to travel to Yellow Stone from Seattle by car or by flight. Your position is that flight is better.\",\n",
    "    },\n",
    "    llm_config={\"temperature\": 0.9, \"model\": \"gpt-3.5-turbo\"},\n",
    ")"
   ]
  },
  {
   "cell_type": "code",
   "execution_count": 5,
   "metadata": {},
   "outputs": [],
   "source": [
    "participant1.register(lambda msg, ctx: llm_chat_trigger(msg, ctx) and len(ctx.chat_history) < 10, llm_chat_action)\n",
    "participant2.register(lambda msg, ctx: llm_chat_trigger(msg, ctx) and len(ctx.chat_history) < 10, llm_chat_action)"
   ]
  },
  {
   "cell_type": "code",
   "execution_count": 6,
   "metadata": {},
   "outputs": [
    {
     "name": "stderr",
     "output_type": "stream",
     "text": [
      "2023-08-04 11:16:03,194 DEBUG Send message LLMChatMessage(sender_name=participant2, receiver_name=participant1, message={'role': 'user', 'content': 'It is better to travel to Yellow Stone by flight.'}) to address participant1\n"
     ]
    }
   ],
   "source": [
    "stream.send(\n",
    "    LLMChatMessage(\n",
    "        sender_name=\"participant2\",\n",
    "        receiver_name=\"participant1\",\n",
    "        message={\"role\": \"user\", \"content\": \"It is better to travel to Yellow Stone by flight.\"},\n",
    "    ),\n",
    ")"
   ]
  },
  {
   "cell_type": "code",
   "execution_count": 7,
   "metadata": {},
   "outputs": [
    {
     "name": "stderr",
     "output_type": "stream",
     "text": [
      "2023-08-04 11:16:20,527 DEBUG Send message LLMChatMessage(sender_name=participant1, receiver_name=participant2, message={'role': 'user', 'content': \"I understand that flying might seem like a convenient option, but I believe that traveling to Yellowstone by car is a better choice. Here are a few reasons why:\\n\\n1. Flexibility: When you travel by car, you have the freedom to set your own schedule and make spontaneous stops along the way. You can explore other beautiful areas or attractions that you may come across during your journey. This flexibility allows you to make the most out of your trip and have a more personalized experience.\\n\\n2. Scenic Route: The drive from Seattle to Yellowstone is incredibly scenic, with stunning landscapes and natural beauty to admire along the way. You can enjoy breathtaking views of mountains, forests, and lakes as you drive through states like Washington, Idaho, and Montana. This journey can be an adventure in itself, offering memorable moments that you might miss out on if you choose to fly.\\n\\n3. Cost-effective: While flying might be quicker, it can also be expensive, especially if you're traveling with a group or have a lot of luggage. On the other hand, driving allows you to save money on airfare, car rentals, and other transportation expenses. Plus, you won't have to worry about additional costs such as airport transfers or parking fees.\\n\\n4. Flexibility within Yellowstone: Once you reach Yellowstone, having a car allows you easy access to explore the park at your own pace. You can drive to various viewpoints, trailheads, and attractions within the park without relying on shuttle services or public transportation. This gives you more control over your itinerary and the freedom to spend as much time as you want in different areas of the park.\\n\\n5. Convenience: Having a car with you during your trip means you can easily carry your belongings, camping gear, or any other equipment you might need for outdoor activities in Yellowstone. It provides you with the convenience of having everything you need right at your fingertips without worrying about weight restrictions or baggage limitations.\\n\\nOverall, traveling to Yellowstone by car offers more flexibility, cost savings, and a chance to fully immerse yourself in the stunning landscapes along the way. The journey itself becomes part of the adventure, making it a memorable and unique experience.\", 'name': 'participant1'}) to address participant2\n",
      "2023-08-04 11:16:37,742 DEBUG Send message LLMChatMessage(sender_name=participant2, receiver_name=participant1, message={'role': 'user', 'content': \"While traveling to Yellowstone by car does have some advantages, I still believe that flying is the better option. Here's why:\\n\\n1. Time-saving: Driving from Seattle to Yellowstone National Park is a long journey, taking approximately 12-14 hours, depending on traffic and stops. On the other hand, flying from Seattle to Yellowstone Regional Airport takes around 2-3 hours, significantly reducing travel time. This allows you to maximize your time in the park, especially if you have limited vacation days.\\n\\n2. Comfort and convenience: Flying allows you to avoid the fatigue and discomfort that comes with long hours of driving. Instead, you can sit back, relax, and enjoy a comfortable flight to your destination. Additionally, once you land at Yellowstone Regional Airport, it's just a short drive to the park, saving you from the exhaustion of a long car journey.\\n\\n3. Environmental impact: By choosing to fly, you contribute to reducing your carbon footprint. Airplanes today have become more fuel-efficient, and the emissions per passenger per mile are relatively low compared to driving long distances in a car. This way, you can contribute to environmental sustainability while enjoying your trip.\\n\\n4. More time in Yellowstone: By flying, you'll have more time to explore the breathtaking wonders of Yellowstone National Park. You can start your adventure as soon as you arrive, without needing to spend an entire day driving to your destination. This means more time to hike, visit geysers, spot wildlife, and soak in the park's natural beauty.\\n\\n5. Cost considerations: While driving might initially seem more cost-effective, it's essential to consider expenses such as gas, accommodation during the journey, and wear and tear on your car. On the other hand, flying can often be affordable, especially if you find a good deal on flights or book in advance. This can help you save money that you can then spend on activities or lodging within Yellowstone itself.\\n\\nIn summary, flying from Seattle to Yellowstone offers time savings, comfort, environmental benefits, and more time to explore the park. While driving has its advantages, the convenience and efficiency of flying make it a better choice, allowing you to make the most of your trip.\", 'name': 'participant2'}) to address participant1\n",
      "2023-08-04 11:16:55,955 DEBUG Send message LLMChatMessage(sender_name=participant1, receiver_name=participant2, message={'role': 'user', 'content': \"While your points about time-saving and convenience are valid, I still believe that traveling to Yellowstone by car outweighs the benefits of flying. Here's why:\\n\\n1. Flexibility within Yellowstone: Having a car gives you the freedom to explore Yellowstone National Park at your own pace. You can choose which areas to visit and how long to stay there without being tied to shuttle schedules or dependent on public transportation. This flexibility allows you to customize your itinerary and fully immerse yourself in the park's natural beauty.\\n\\n2. Cost-effectiveness: While flying may seem more affordable initially, it's important to consider the additional costs that come with air travel, such as baggage fees, airport transfers, and car rentals at your destination. On the other hand, driving allows you to save money on airfare, car rentals, and potential airport parking fees. You can also pack and carry as much as you need without worrying about extra charges or weight restrictions.\\n\\n3. Scenic drive: The journey from Seattle to Yellowstone by car offers breathtaking views and scenic routes that you simply won't experience from a plane. You can drive through iconic landscapes, including the Cascade Mountains, Coeur d'Alene National Forest, and the majestic Rocky Mountains. This drive itself can be a memorable part of your trip, providing opportunities for sightseeing, photography, and exploring hidden gems along the way.\\n\\n4. Flexibility before and after Yellowstone: Driving to Yellowstone also allows you to explore other attractions and destinations along the route. You can make stops at beautiful national parks like Mount Rainier, Glacier National Park, or even visit cities like Spokane or Missoula. This adds value to your trip by enabling you to see more of the surrounding region and make the most of your vacation time.\\n\\n5. Convenience during the trip: When traveling by car, you have the convenience of having all your belongings, equipment, and supplies readily available with you. This is particularly advantageous for outdoor enthusiasts who may need camping gear, hiking equipment, or other specific items for their Yellowstone adventure. You won't have to worry about renting or transporting these items separately.\\n\\nIn conclusion, traveling to Yellowstone by car provides the flexibility, cost-effectiveness, and scenic opportunities that flying simply cannot match. It allows you to fully embrace the journey, explore other attractions along the route, and have more control over your itinerary within the park. Overall, driving offers a more immersive and rewarding experience when visiting Yellowstone.\", 'name': 'participant1'}) to address participant2\n",
      "2023-08-04 11:17:11,173 DEBUG Send message LLMChatMessage(sender_name=participant2, receiver_name=participant1, message={'role': 'user', 'content': \"Great points, but I still believe that flying is the better option for traveling to Yellowstone from Seattle. Here's why:\\n\\n1. Time efficiency: While driving allows for flexibility, it can also be time-consuming. The long drive from Seattle to Yellowstone, which takes around 12-14 hours, can eat up a significant portion of your vacation time. By choosing to fly, you can arrive at your destination in just a few hours, giving you more time to explore and enjoy the park.\\n\\n2. Reduced fatigue: Long-distance driving can be tiring, especially if you're traveling with a group or have limited driving experience. Flying eliminates the physical fatigue of driving for long hours, allowing you to arrive at Yellowstone feeling refreshed and ready to embark on your adventure.\\n\\n3. Opportunity to relax: Flying provides an opportunity to relax and enjoy the journey. You can use the flight time to rest, read a book, watch a movie, or catch up on work. This can be particularly beneficial if you have a busy schedule and want to make the most of your vacation without feeling exhausted.\\n\\n4. Avoid traffic and road conditions: Driving can be unpredictable, especially when it comes to traffic congestion and road conditions. By flying, you can avoid the stress of traffic jams, construction zones, and hazardous weather conditions that can significantly impact your travel time and overall experience.\\n\\n5. More accessible for international travelers: If you're an international traveler visiting Seattle, flying is a more convenient option as it eliminates the need to navigate unfamiliar roads, traffic rules, and potential language barriers. Flying directly to Yellowstone allows for a smoother and hassle-free travel experience.\\n\\nUltimately, flying offers time efficiency, reduced fatigue, and the opportunity to relax during the journey. It also allows you to avoid traffic and road conditions, making your trip to Yellowstone more convenient and enjoyable. While driving has its advantages, for most travelers, flying is the better choice when it comes to reaching Yellowstone from Seattle.\", 'name': 'participant2'}) to address participant1\n",
      "2023-08-04 11:17:15,528 DEBUG Send message LLMChatMessage(sender_name=participant1, receiver_name=participant2, message={'role': 'user', 'content': 'Thank you for your perspective. While flying does have its advantages in terms of time-efficiency and reduced fatigue, I still believe that traveling to Yellowstone by car offers a more immersive and flexible experience. However, both options have their merits, and the choice ultimately depends on individual preferences and priorities. Whether you choose to fly or drive, Yellowstone National Park promises to provide a remarkable and unforgettable experience.', 'name': 'participant1'}) to address participant2\n",
      "2023-08-04 11:17:19,916 DEBUG Send message LLMChatMessage(sender_name=participant2, receiver_name=participant1, message={'role': 'user', 'content': \"You make valid points, and I agree that ultimately, the choice between flying and driving to Yellowstone from Seattle depends on individual preferences and priorities. Both options have their advantages and can lead to a fantastic experience in the park. Whether you prioritize time-efficiency and convenience or prefer the flexibility and scenic route of a road trip, Yellowstone is sure to leave you in awe. Ultimately, it's essential to consider factors such as time available, budget, desired level of flexibility, and personal comfort to make the best decision for your Yellowstone adventure.\", 'name': 'participant2'}) to address participant1\n",
      "2023-08-04 11:17:23,807 DEBUG Send message LLMChatMessage(sender_name=participant1, receiver_name=participant2, message={'role': 'user', 'content': \"Absolutely, it's all about personal preferences and priorities. Both flying and driving have their own advantages and considerations. The most important thing is to choose the method of travel that aligns with your travel style and allows you to have the best experience at Yellowstone National Park. It's a remarkable destination either way, and I'm sure you'll have an incredible time exploring its natural wonders.\", 'name': 'participant1'}) to address participant2\n",
      "2023-08-04 11:17:26,880 DEBUG Send message LLMChatMessage(sender_name=participant2, receiver_name=participant1, message={'role': 'user', 'content': \"Thank you both for the thoughtful discussion. It's clear that each option has its merits and it ultimately depends on individual preferences. Whether you choose to fly or drive, Yellowstone National Park is a stunning destination that will provide unforgettable experiences. Safe travels and enjoy your time exploring the wonders of Yellowstone!\", 'name': 'participant2'}) to address participant1\n",
      "2023-08-04 11:17:31,903 DEBUG Send message LLMChatMessage(sender_name=participant1, receiver_name=participant2, message={'role': 'user', 'content': \"Thank you for engaging in this debate! Ultimately, the choice between traveling to Yellowstone from Seattle by car or by flight depends on individual preferences and priorities. Both options have their advantages and considerations. Whether you prioritize flexibility, cost-effectiveness, and a scenic road trip, or prioritize time efficiency, convenience, and reduced fatigue, both can lead to a fantastic experience at Yellowstone. It's important to weigh the factors that matter most to you and choose the option that aligns with your travel style and priorities. Yellowstone is a remarkable destination, and I hope you have a wonderful trip, no matter which method of travel you choose!\", 'name': 'participant1'}) to address participant2\n",
      "2023-08-04 11:17:36,929 DEBUG Send message LLMChatMessage(sender_name=participant2, receiver_name=participant1, message={'role': 'user', 'content': \"Thank you for the engaging debate! It's clear that there are valid arguments for both flying and driving to Yellowstone from Seattle. Ultimately, the choice depends on individual preferences and priorities. Whether you prioritize time-efficiency, convenience, and reduced fatigue or prefer the flexibility, scenic route, and cost-effectiveness of a road trip, both options can lead to a memorable experience at Yellowstone. It's important to consider your own preferences, budget, and travel goals when making the decision. I wish you a fantastic trip to Yellowstone, and I'm sure you'll have a great time exploring the park! Safe travels!\", 'name': 'participant2'}) to address participant1\n"
     ]
    }
   ],
   "source": [
    "stream.run()"
   ]
  }
 ],
 "metadata": {
  "kernelspec": {
   "display_name": "flaml",
   "language": "python",
   "name": "python3"
  },
  "language_info": {
   "codemirror_mode": {
    "name": "ipython",
    "version": 3
   },
   "file_extension": ".py",
   "mimetype": "text/x-python",
   "name": "python",
   "nbconvert_exporter": "python",
   "pygments_lexer": "ipython3",
   "version": "3.11.4"
  },
  "orig_nbformat": 4
 },
 "nbformat": 4,
 "nbformat_minor": 2
}
